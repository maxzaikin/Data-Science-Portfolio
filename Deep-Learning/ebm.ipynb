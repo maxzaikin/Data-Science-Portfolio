{
 "cells": [
  {
   "cell_type": "markdown",
   "id": "b883e2f4-a8b9-466d-a634-0539f2266472",
   "metadata": {},
   "source": [
    "# ENERGY BASE MODELS (EBM)"
   ]
  },
  {
   "cell_type": "markdown",
   "id": "f38b7e24-66da-43ab-a6f5-9020bd92e45a",
   "metadata": {},
   "source": [
    "## Imports"
   ]
  },
  {
   "cell_type": "code",
   "execution_count": 1,
   "id": "ddd0bd49-1baf-4c62-bfdd-f7523bf58ea7",
   "metadata": {},
   "outputs": [
    {
     "name": "stderr",
     "output_type": "stream",
     "text": [
      "2024-11-16 23:13:39.554702: I tensorflow/core/util/port.cc:113] oneDNN custom operations are on. You may see slightly different numerical results due to floating-point round-off errors from different computation orders. To turn them off, set the environment variable `TF_ENABLE_ONEDNN_OPTS=0`.\n",
      "2024-11-16 23:13:39.604721: E external/local_xla/xla/stream_executor/cuda/cuda_dnn.cc:10575] Unable to register cuDNN factory: Attempting to register factory for plugin cuDNN when one has already been registered\n",
      "2024-11-16 23:13:39.604756: E external/local_xla/xla/stream_executor/cuda/cuda_fft.cc:479] Unable to register cuFFT factory: Attempting to register factory for plugin cuFFT when one has already been registered\n",
      "2024-11-16 23:13:39.611820: E external/local_xla/xla/stream_executor/cuda/cuda_blas.cc:1442] Unable to register cuBLAS factory: Attempting to register factory for plugin cuBLAS when one has already been registered\n",
      "2024-11-16 23:13:39.629195: I tensorflow/core/platform/cpu_feature_guard.cc:210] This TensorFlow binary is optimized to use available CPU instructions in performance-critical operations.\n",
      "To enable the following instructions: SSE4.1 SSE4.2 AVX AVX2 AVX512F AVX512_VNNI FMA, in other operations, rebuild TensorFlow with the appropriate compiler flags.\n"
     ]
    }
   ],
   "source": [
    "from tensorflow.keras import (\n",
    "    datasets,\n",
    "    layers,\n",
    "    activations,\n",
    "    models,\n",
    "    metrics,\n",
    "    optimizers,\n",
    "    callbacks\n",
    ")\n",
    "\n",
    "import numpy as np\n",
    "import tensorflow as tf\n",
    "import matplotlib.pyplot as plt\n",
    "import random\n",
    "import datetime\n",
    "from pathlib import Path\n",
    "import math"
   ]
  },
  {
   "cell_type": "markdown",
   "id": "053d9a79-90f2-4a21-9334-d240645649e4",
   "metadata": {},
   "source": [
    "## Global Settings"
   ]
  },
  {
   "cell_type": "code",
   "execution_count": 2,
   "id": "ff74b503-a712-4cbb-b4d4-27691a78c07e",
   "metadata": {},
   "outputs": [],
   "source": [
    "# Afjust output thus image matrix's row can fit on a screen\n",
    "np.set_printoptions(linewidth=200)\n",
    "np.set_printoptions(threshold=np.inf)"
   ]
  },
  {
   "cell_type": "markdown",
   "id": "ec50b1a0-b2d0-4e32-8523-4e836fafba6c",
   "metadata": {},
   "source": [
    "## Functions"
   ]
  },
  {
   "cell_type": "code",
   "execution_count": 3,
   "id": "c582f0f9-cb46-45d2-b503-ce2a4faf0bae",
   "metadata": {},
   "outputs": [],
   "source": [
    "def preprocess_img(imgs):\n",
    "    \n",
    "    imgs= (imgs.astype('float32') - 127.5) / 127.5\n",
    "\n",
    "    # (0,0) - means do not change number of images in the batch\n",
    "    # (2,2),(2,2) - means create a frame thick=2\n",
    "    # constant_values - means fill fram with -1.0\n",
    "    imgs = np.pad(imgs, ((0,0), (2,2), (2,2)), constant_values = -1.0 )\n",
    "    imgs = np.expand_dims(imgs, -1)\n",
    "\n",
    "    return imgs\n",
    "\n",
    "def sample_batch(dataset):\n",
    "    batch= dataset.take(1).get_single_element()\n",
    "\n",
    "    if isinstance(batch, tuple):\n",
    "        batch= batch[0]\n",
    "\n",
    "    return batch.numpy()\n",
    "\n",
    "\n",
    "def display_mnist_img_tf(img_tf):\n",
    "\n",
    "    if img_tf.max() > 1.0:\n",
    "        img_tf= img_tf / 255.0\n",
    "    elif img_tf.min() < 0.0:\n",
    "        img_tf= (img_tf + 1.0) / 2.0\n",
    "        \n",
    "    plt.figure(figsize=(3,3))\n",
    "    plt.imshow(img_tf[0].astype('float32'),cmap='gray')\n",
    "    plt.axis('off')\n",
    "    plt.show()\n",
    "\n",
    "def display_img(images, n=1, fig_size=(20,3), c_map='gray', as_type='float32', save_to=None):\n",
    "    if save_to is not None:\n",
    "        oFull_path=Path(save_to)\n",
    "        oPath=Path(oFull_path.parent)\n",
    "\n",
    "        if not oPath.exists():\n",
    "            oPath.mkdir(parents=True, exist_ok=True)\n",
    "\n",
    "    if images.max() > 1.0:\n",
    "        images=images/255.0\n",
    "    elif images.min() < 0.0:\n",
    "        images=(images+1.0)/2.0\n",
    "\n",
    "    plt.figure(figsize=fig_size)\n",
    "    for i in range(n):\n",
    "        _=plt.subplot(1,n,i+1)\n",
    "        plt.imshow(images[i].astype(as_type), cmap=c_map)\n",
    "        plt.axis('off')\n",
    "        \n",
    "        \n",
    "    if save_to:\n",
    "        plt.savefig(save_to)\n",
    "\n",
    "    plt.show()"
   ]
  },
  {
   "cell_type": "markdown",
   "id": "0cd702d1-adf0-4d5d-99b3-0325f4121cde",
   "metadata": {},
   "source": [
    "## LOAD AND PRE-PROCESS DATA"
   ]
  },
  {
   "cell_type": "code",
   "execution_count": 4,
   "id": "870147f4-756e-471d-8a5e-ed34bef34261",
   "metadata": {},
   "outputs": [
    {
     "name": "stdout",
     "output_type": "stream",
     "text": [
      "x_train.type: <class 'numpy.ndarray'>\n",
      "CPU times: user 174 ms, sys: 0 ns, total: 174 ms\n",
      "Wall time: 190 ms\n"
     ]
    }
   ],
   "source": [
    "%%time\n",
    "batch_size= 128\n",
    "(x_train, _), (x_test, _) = datasets.mnist.load_data()\n",
    "print(f'x_train.type: {type(x_train)}')"
   ]
  },
  {
   "cell_type": "code",
   "execution_count": 5,
   "id": "b667fb6d-9292-4008-8663-e02684cd5958",
   "metadata": {},
   "outputs": [
    {
     "name": "stdout",
     "output_type": "stream",
     "text": [
      "x_train.shape: (60000, 28, 28)\n",
      "x_test.shape: (10000, 28, 28)\n",
      "Number of batches per 1 epoch: 469\n",
      "Image: [[  0   0   0   0   0   0   0   0   0   0   0   0   0   0   0   0   0   0   0   0   0   0   0   0   0   0   0   0]\n",
      " [  0   0   0   0   0   0   0   0   0   0   0   0   0   0   0   0   0   0   0   0   0   0   0   0   0   0   0   0]\n",
      " [  0   0   0   0   0   0   0   0   0   0   0   0   0   0   0   0   0   0   0   0   0   0   0   0   0   0   0   0]\n",
      " [  0   0   0   0   0   0   0   0   0   0   0   0   0   0   0   0   0   0   0   0   0   0   0   0   0   0   0   0]\n",
      " [  0   0   0   0   0   0   0   0   0   0   0   0   0   0   0   0   0   0   0   0   0   0   0   0   0   0   0   0]\n",
      " [  0   0   0   0   0   0   0   0   0   0   0   0   3  18  18  18 126 136 175  26 166 255 247 127   0   0   0   0]\n",
      " [  0   0   0   0   0   0   0   0  30  36  94 154 170 253 253 253 253 253 225 172 253 242 195  64   0   0   0   0]\n",
      " [  0   0   0   0   0   0   0  49 238 253 253 253 253 253 253 253 253 251  93  82  82  56  39   0   0   0   0   0]\n",
      " [  0   0   0   0   0   0   0  18 219 253 253 253 253 253 198 182 247 241   0   0   0   0   0   0   0   0   0   0]\n",
      " [  0   0   0   0   0   0   0   0  80 156 107 253 253 205  11   0  43 154   0   0   0   0   0   0   0   0   0   0]\n",
      " [  0   0   0   0   0   0   0   0   0  14   1 154 253  90   0   0   0   0   0   0   0   0   0   0   0   0   0   0]\n",
      " [  0   0   0   0   0   0   0   0   0   0   0 139 253 190   2   0   0   0   0   0   0   0   0   0   0   0   0   0]\n",
      " [  0   0   0   0   0   0   0   0   0   0   0  11 190 253  70   0   0   0   0   0   0   0   0   0   0   0   0   0]\n",
      " [  0   0   0   0   0   0   0   0   0   0   0   0  35 241 225 160 108   1   0   0   0   0   0   0   0   0   0   0]\n",
      " [  0   0   0   0   0   0   0   0   0   0   0   0   0  81 240 253 253 119  25   0   0   0   0   0   0   0   0   0]\n",
      " [  0   0   0   0   0   0   0   0   0   0   0   0   0   0  45 186 253 253 150  27   0   0   0   0   0   0   0   0]\n",
      " [  0   0   0   0   0   0   0   0   0   0   0   0   0   0   0  16  93 252 253 187   0   0   0   0   0   0   0   0]\n",
      " [  0   0   0   0   0   0   0   0   0   0   0   0   0   0   0   0   0 249 253 249  64   0   0   0   0   0   0   0]\n",
      " [  0   0   0   0   0   0   0   0   0   0   0   0   0   0  46 130 183 253 253 207   2   0   0   0   0   0   0   0]\n",
      " [  0   0   0   0   0   0   0   0   0   0   0   0  39 148 229 253 253 253 250 182   0   0   0   0   0   0   0   0]\n",
      " [  0   0   0   0   0   0   0   0   0   0  24 114 221 253 253 253 253 201  78   0   0   0   0   0   0   0   0   0]\n",
      " [  0   0   0   0   0   0   0   0  23  66 213 253 253 253 253 198  81   2   0   0   0   0   0   0   0   0   0   0]\n",
      " [  0   0   0   0   0   0  18 171 219 253 253 253 253 195  80   9   0   0   0   0   0   0   0   0   0   0   0   0]\n",
      " [  0   0   0   0  55 172 226 253 253 253 253 244 133  11   0   0   0   0   0   0   0   0   0   0   0   0   0   0]\n",
      " [  0   0   0   0 136 253 253 253 212 135 132  16   0   0   0   0   0   0   0   0   0   0   0   0   0   0   0   0]\n",
      " [  0   0   0   0   0   0   0   0   0   0   0   0   0   0   0   0   0   0   0   0   0   0   0   0   0   0   0   0]\n",
      " [  0   0   0   0   0   0   0   0   0   0   0   0   0   0   0   0   0   0   0   0   0   0   0   0   0   0   0   0]\n",
      " [  0   0   0   0   0   0   0   0   0   0   0   0   0   0   0   0   0   0   0   0   0   0   0   0   0   0   0   0]]\n"
     ]
    }
   ],
   "source": [
    "\n",
    "print(f'x_train.shape: {x_train.shape}',end='\\n')\n",
    "print(f'x_test.shape: {x_test.shape}',end='\\n')\n",
    "print(f'Number of batches per 1 epoch: {int(math.modf(math.ceil(x_train.shape[0] / batch_size))[1])}')\n",
    "\n",
    "print(f'Image: {x_train[0]}')"
   ]
  },
  {
   "cell_type": "code",
   "execution_count": 6,
   "id": "c6d48359-f422-4cd0-9aeb-13aa3dc82bd2",
   "metadata": {
    "scrolled": true
   },
   "outputs": [
    {
     "name": "stdout",
     "output_type": "stream",
     "text": [
      "CPU times: user 131 ms, sys: 108 ms, total: 238 ms\n",
      "Wall time: 244 ms\n"
     ]
    }
   ],
   "source": [
    "%%time\n",
    "# Normalize image data from the discretre range of [0,255] to continous range [-1,1]\n",
    "x_train= preprocess_img(x_train)\n",
    "x_test= preprocess_img(x_test)\n"
   ]
  },
  {
   "cell_type": "code",
   "execution_count": 7,
   "id": "1773ba6e-74b3-46cb-a134-de669c3a915c",
   "metadata": {},
   "outputs": [
    {
     "name": "stdout",
     "output_type": "stream",
     "text": [
      "aa [[-1.         -1.         -1.         -1.         -1.         -1.         -1.         -1.         -1.         -1.         -1.         -1.         -1.         -1.         -1.         -1.\n",
      "  -1.         -1.         -1.         -1.         -1.         -1.         -1.         -1.         -1.         -1.         -1.         -1.         -1.         -1.         -1.         -1.        ]\n",
      " [-1.         -1.         -1.         -1.         -1.         -1.         -1.         -1.         -1.         -1.         -1.         -1.         -1.         -1.         -1.         -1.\n",
      "  -1.         -1.         -1.         -1.         -1.         -1.         -1.         -1.         -1.         -1.         -1.         -1.         -1.         -1.         -1.         -1.        ]\n",
      " [-1.         -1.         -1.         -1.         -1.         -1.         -1.         -1.         -1.         -1.         -1.         -1.         -1.         -1.         -1.         -1.\n",
      "  -1.         -1.         -1.         -1.         -1.         -1.         -1.         -1.         -1.         -1.         -1.         -1.         -1.         -1.         -1.         -1.        ]\n",
      " [-1.         -1.         -1.         -1.         -1.         -1.         -1.         -1.         -1.         -1.         -1.         -1.         -1.         -1.         -1.         -1.\n",
      "  -1.         -1.         -1.         -1.         -1.         -1.         -1.         -1.         -1.         -1.         -1.         -1.         -1.         -1.         -1.         -1.        ]\n",
      " [-1.         -1.         -1.         -1.         -1.         -1.         -1.         -1.         -1.         -1.         -1.         -1.         -1.         -1.         -1.         -1.\n",
      "  -1.         -1.         -1.         -1.         -1.         -1.         -1.         -1.         -1.         -1.         -1.         -1.         -1.         -1.         -1.         -1.        ]\n",
      " [-1.         -1.         -1.         -1.         -1.         -1.         -1.         -1.         -1.         -1.         -1.         -1.         -1.         -1.         -1.         -1.\n",
      "  -1.         -1.         -1.         -1.         -1.         -1.         -1.         -1.         -1.         -1.         -1.         -1.         -1.         -1.         -1.         -1.        ]\n",
      " [-1.         -1.         -1.         -1.         -1.         -1.         -1.         -1.         -1.         -1.         -1.         -1.         -1.         -1.         -1.         -1.\n",
      "  -1.         -1.         -1.         -1.         -1.         -1.         -1.         -1.         -1.         -1.         -1.         -1.         -1.         -1.         -1.         -1.        ]\n",
      " [-1.         -1.         -1.         -1.         -1.         -1.         -1.         -1.         -1.         -1.         -1.         -1.         -1.         -1.         -0.9764706  -0.85882354\n",
      "  -0.85882354 -0.85882354 -0.01176471  0.06666667  0.37254903 -0.79607844  0.3019608   1.          0.9372549  -0.00392157 -1.         -1.         -1.         -1.         -1.         -1.        ]\n",
      " [-1.         -1.         -1.         -1.         -1.         -1.         -1.         -1.         -1.         -1.         -0.7647059  -0.7176471  -0.2627451   0.20784314  0.33333334  0.9843137\n",
      "   0.9843137   0.9843137   0.9843137   0.9843137   0.7647059   0.34901962  0.9843137   0.8980392   0.5294118  -0.49803922 -1.         -1.         -1.         -1.         -1.         -1.        ]\n",
      " [-1.         -1.         -1.         -1.         -1.         -1.         -1.         -1.         -1.         -0.6156863   0.8666667   0.9843137   0.9843137   0.9843137   0.9843137   0.9843137\n",
      "   0.9843137   0.9843137   0.9843137   0.96862745 -0.27058825 -0.35686275 -0.35686275 -0.56078434 -0.69411767 -1.         -1.         -1.         -1.         -1.         -1.         -1.        ]\n",
      " [-1.         -1.         -1.         -1.         -1.         -1.         -1.         -1.         -1.         -0.85882354  0.7176471   0.9843137   0.9843137   0.9843137   0.9843137   0.9843137\n",
      "   0.5529412   0.42745098  0.9372549   0.8901961  -1.         -1.         -1.         -1.         -1.         -1.         -1.         -1.         -1.         -1.         -1.         -1.        ]\n",
      " [-1.         -1.         -1.         -1.         -1.         -1.         -1.         -1.         -1.         -1.         -0.37254903  0.22352941 -0.16078432  0.9843137   0.9843137   0.60784316\n",
      "  -0.9137255  -1.         -0.6627451   0.20784314 -1.         -1.         -1.         -1.         -1.         -1.         -1.         -1.         -1.         -1.         -1.         -1.        ]\n",
      " [-1.         -1.         -1.         -1.         -1.         -1.         -1.         -1.         -1.         -1.         -1.         -0.8901961  -0.99215686  0.20784314  0.9843137  -0.29411766\n",
      "  -1.         -1.         -1.         -1.         -1.         -1.         -1.         -1.         -1.         -1.         -1.         -1.         -1.         -1.         -1.         -1.        ]\n",
      " [-1.         -1.         -1.         -1.         -1.         -1.         -1.         -1.         -1.         -1.         -1.         -1.         -1.          0.09019608  0.9843137   0.49019608\n",
      "  -0.9843137  -1.         -1.         -1.         -1.         -1.         -1.         -1.         -1.         -1.         -1.         -1.         -1.         -1.         -1.         -1.        ]\n",
      " [-1.         -1.         -1.         -1.         -1.         -1.         -1.         -1.         -1.         -1.         -1.         -1.         -1.         -0.9137255   0.49019608  0.9843137\n",
      "  -0.4509804  -1.         -1.         -1.         -1.         -1.         -1.         -1.         -1.         -1.         -1.         -1.         -1.         -1.         -1.         -1.        ]\n",
      " [-1.         -1.         -1.         -1.         -1.         -1.         -1.         -1.         -1.         -1.         -1.         -1.         -1.         -1.         -0.7254902   0.8901961\n",
      "   0.7647059   0.25490198 -0.15294118 -0.99215686 -1.         -1.         -1.         -1.         -1.         -1.         -1.         -1.         -1.         -1.         -1.         -1.        ]\n",
      " [-1.         -1.         -1.         -1.         -1.         -1.         -1.         -1.         -1.         -1.         -1.         -1.         -1.         -1.         -1.         -0.3647059\n",
      "   0.88235295  0.9843137   0.9843137  -0.06666667 -0.8039216  -1.         -1.         -1.         -1.         -1.         -1.         -1.         -1.         -1.         -1.         -1.        ]\n",
      " [-1.         -1.         -1.         -1.         -1.         -1.         -1.         -1.         -1.         -1.         -1.         -1.         -1.         -1.         -1.         -1.\n",
      "  -0.64705884  0.45882353  0.9843137   0.9843137   0.1764706  -0.7882353  -1.         -1.         -1.         -1.         -1.         -1.         -1.         -1.         -1.         -1.        ]\n",
      " [-1.         -1.         -1.         -1.         -1.         -1.         -1.         -1.         -1.         -1.         -1.         -1.         -1.         -1.         -1.         -1.\n",
      "  -1.         -0.8745098  -0.27058825  0.9764706   0.9843137   0.46666667 -1.         -1.         -1.         -1.         -1.         -1.         -1.         -1.         -1.         -1.        ]\n",
      " [-1.         -1.         -1.         -1.         -1.         -1.         -1.         -1.         -1.         -1.         -1.         -1.         -1.         -1.         -1.         -1.\n",
      "  -1.         -1.         -1.          0.9529412   0.9843137   0.9529412  -0.49803922 -1.         -1.         -1.         -1.         -1.         -1.         -1.         -1.         -1.        ]\n",
      " [-1.         -1.         -1.         -1.         -1.         -1.         -1.         -1.         -1.         -1.         -1.         -1.         -1.         -1.         -1.         -1.\n",
      "  -0.6392157   0.01960784  0.43529412  0.9843137   0.9843137   0.62352943 -0.9843137  -1.         -1.         -1.         -1.         -1.         -1.         -1.         -1.         -1.        ]\n",
      " [-1.         -1.         -1.         -1.         -1.         -1.         -1.         -1.         -1.         -1.         -1.         -1.         -1.         -1.         -0.69411767  0.16078432\n",
      "   0.79607844  0.9843137   0.9843137   0.9843137   0.9607843   0.42745098 -1.         -1.         -1.         -1.         -1.         -1.         -1.         -1.         -1.         -1.        ]\n",
      " [-1.         -1.         -1.         -1.         -1.         -1.         -1.         -1.         -1.         -1.         -1.         -1.         -0.8117647  -0.10588235  0.73333335  0.9843137\n",
      "   0.9843137   0.9843137   0.9843137   0.5764706  -0.3882353  -1.         -1.         -1.         -1.         -1.         -1.         -1.         -1.         -1.         -1.         -1.        ]\n",
      " [-1.         -1.         -1.         -1.         -1.         -1.         -1.         -1.         -1.         -1.         -0.81960785 -0.48235294  0.67058825  0.9843137   0.9843137   0.9843137\n",
      "   0.9843137   0.5529412  -0.3647059  -0.9843137  -1.         -1.         -1.         -1.         -1.         -1.         -1.         -1.         -1.         -1.         -1.         -1.        ]\n",
      " [-1.         -1.         -1.         -1.         -1.         -1.         -1.         -1.         -0.85882354  0.34117648  0.7176471   0.9843137   0.9843137   0.9843137   0.9843137   0.5294118\n",
      "  -0.37254903 -0.92941177 -1.         -1.         -1.         -1.         -1.         -1.         -1.         -1.         -1.         -1.         -1.         -1.         -1.         -1.        ]\n",
      " [-1.         -1.         -1.         -1.         -1.         -1.         -0.5686275   0.34901962  0.77254903  0.9843137   0.9843137   0.9843137   0.9843137   0.9137255   0.04313726 -0.9137255\n",
      "  -1.         -1.         -1.         -1.         -1.         -1.         -1.         -1.         -1.         -1.         -1.         -1.         -1.         -1.         -1.         -1.        ]\n",
      " [-1.         -1.         -1.         -1.         -1.         -1.          0.06666667  0.9843137   0.9843137   0.9843137   0.6627451   0.05882353  0.03529412 -0.8745098  -1.         -1.\n",
      "  -1.         -1.         -1.         -1.         -1.         -1.         -1.         -1.         -1.         -1.         -1.         -1.         -1.         -1.         -1.         -1.        ]\n",
      " [-1.         -1.         -1.         -1.         -1.         -1.         -1.         -1.         -1.         -1.         -1.         -1.         -1.         -1.         -1.         -1.\n",
      "  -1.         -1.         -1.         -1.         -1.         -1.         -1.         -1.         -1.         -1.         -1.         -1.         -1.         -1.         -1.         -1.        ]\n",
      " [-1.         -1.         -1.         -1.         -1.         -1.         -1.         -1.         -1.         -1.         -1.         -1.         -1.         -1.         -1.         -1.\n",
      "  -1.         -1.         -1.         -1.         -1.         -1.         -1.         -1.         -1.         -1.         -1.         -1.         -1.         -1.         -1.         -1.        ]\n",
      " [-1.         -1.         -1.         -1.         -1.         -1.         -1.         -1.         -1.         -1.         -1.         -1.         -1.         -1.         -1.         -1.\n",
      "  -1.         -1.         -1.         -1.         -1.         -1.         -1.         -1.         -1.         -1.         -1.         -1.         -1.         -1.         -1.         -1.        ]\n",
      " [-1.         -1.         -1.         -1.         -1.         -1.         -1.         -1.         -1.         -1.         -1.         -1.         -1.         -1.         -1.         -1.\n",
      "  -1.         -1.         -1.         -1.         -1.         -1.         -1.         -1.         -1.         -1.         -1.         -1.         -1.         -1.         -1.         -1.        ]\n",
      " [-1.         -1.         -1.         -1.         -1.         -1.         -1.         -1.         -1.         -1.         -1.         -1.         -1.         -1.         -1.         -1.\n",
      "  -1.         -1.         -1.         -1.         -1.         -1.         -1.         -1.         -1.         -1.         -1.         -1.         -1.         -1.         -1.         -1.        ]]\n"
     ]
    }
   ],
   "source": [
    "\n",
    "print(f'aa {x_train[0, :, :, 0]}')"
   ]
  },
  {
   "cell_type": "code",
   "execution_count": 8,
   "id": "69c471ed-db89-4abf-992a-a152c8367e9e",
   "metadata": {},
   "outputs": [
    {
     "name": "stderr",
     "output_type": "stream",
     "text": [
      "2024-11-16 23:13:43.951780: I external/local_xla/xla/stream_executor/cuda/cuda_executor.cc:984] could not open file to read NUMA node: /sys/bus/pci/devices/0000:01:00.0/numa_node\n",
      "Your kernel may have been built without NUMA support.\n",
      "2024-11-16 23:13:44.100229: I external/local_xla/xla/stream_executor/cuda/cuda_executor.cc:984] could not open file to read NUMA node: /sys/bus/pci/devices/0000:01:00.0/numa_node\n",
      "Your kernel may have been built without NUMA support.\n",
      "2024-11-16 23:13:44.100348: I external/local_xla/xla/stream_executor/cuda/cuda_executor.cc:984] could not open file to read NUMA node: /sys/bus/pci/devices/0000:01:00.0/numa_node\n",
      "Your kernel may have been built without NUMA support.\n",
      "2024-11-16 23:13:44.105746: I external/local_xla/xla/stream_executor/cuda/cuda_executor.cc:984] could not open file to read NUMA node: /sys/bus/pci/devices/0000:01:00.0/numa_node\n",
      "Your kernel may have been built without NUMA support.\n",
      "2024-11-16 23:13:44.105830: I external/local_xla/xla/stream_executor/cuda/cuda_executor.cc:984] could not open file to read NUMA node: /sys/bus/pci/devices/0000:01:00.0/numa_node\n",
      "Your kernel may have been built without NUMA support.\n",
      "2024-11-16 23:13:44.105855: I external/local_xla/xla/stream_executor/cuda/cuda_executor.cc:984] could not open file to read NUMA node: /sys/bus/pci/devices/0000:01:00.0/numa_node\n",
      "Your kernel may have been built without NUMA support.\n",
      "2024-11-16 23:13:44.409151: I external/local_xla/xla/stream_executor/cuda/cuda_executor.cc:984] could not open file to read NUMA node: /sys/bus/pci/devices/0000:01:00.0/numa_node\n",
      "Your kernel may have been built without NUMA support.\n",
      "2024-11-16 23:13:44.409490: I external/local_xla/xla/stream_executor/cuda/cuda_executor.cc:984] could not open file to read NUMA node: /sys/bus/pci/devices/0000:01:00.0/numa_node\n",
      "Your kernel may have been built without NUMA support.\n",
      "2024-11-16 23:13:44.409503: I tensorflow/core/common_runtime/gpu/gpu_device.cc:2019] Could not identify NUMA node of platform GPU id 0, defaulting to 0.  Your kernel may not have been built with NUMA support.\n",
      "2024-11-16 23:13:44.409629: I external/local_xla/xla/stream_executor/cuda/cuda_executor.cc:984] could not open file to read NUMA node: /sys/bus/pci/devices/0000:01:00.0/numa_node\n",
      "Your kernel may have been built without NUMA support.\n",
      "2024-11-16 23:13:44.409701: I tensorflow/core/common_runtime/gpu/gpu_device.cc:1928] Created device /job:localhost/replica:0/task:0/device:GPU:0 with 2245 MB memory:  -> device: 0, name: NVIDIA T1200 Laptop GPU, pci bus id: 0000:01:00.0, compute capability: 7.5\n"
     ]
    },
    {
     "data": {
      "image/png": "[encoded data removed]",
      "text/plain": [
       "<Figure size 300x300 with 1 Axes>"
      ]
     },
     "metadata": {},
     "output_type": "display_data"
    },
    {
     "name": "stdout",
     "output_type": "stream",
     "text": [
      "CPU times: user 421 ms, sys: 336 ms, total: 757 ms\n",
      "Wall time: 909 ms\n"
     ]
    }
   ],
   "source": [
    "%%time\n",
    "# Split dataset by sliics each 128 images\n",
    "x_train= tf.data.Dataset.from_tensor_slices(x_train).batch(batch_size)\n",
    "x_test= tf.data.Dataset.from_tensor_slices(x_test).batch(batch_size)\n",
    "\n",
    "display_mnist_img_tf(sample_batch(x_train))"
   ]
  },
  {
   "cell_type": "markdown",
   "id": "fb412fa8-3f64-4ce6-9178-60345ca5e07f",
   "metadata": {},
   "source": [
    "## EBM"
   ]
  },
  {
   "cell_type": "markdown",
   "id": "298029d3-d863-4ed7-b676-b99cfccbee51",
   "metadata": {},
   "source": [
    "### NN Architecture\n",
    "\n",
    "Let's consider our model step by step\n",
    "\n",
    "```python\n",
    "ebm_input= layers.Input(\n",
    "    shape=(img_size, img_size, ch_n)\n",
    ")\n",
    "```\n",
    "Here we define our input layer shape on 32x32x1, i.e. b&w image with the size 32x32\n",
    "\n",
    "```python\n",
    "x= layers.Conv2D(\n",
    "    16,\n",
    "    kernel_size=5,\n",
    "    strides=2,\n",
    "    padding='same',\n",
    "    activation= activations.swish\n",
    ")(ebm_input)\n",
    "```\n",
    "\n",
    "Here we pass in tensor shape 32x32x1 and transform it to to the shape of 16x16x16, and here is why\n",
    "1. Input size 32x32 we devide by stride size and thus we have an image size 16x16.\n",
    "2. The last 16 is our channels, so instead of 1 as of input, by the output we will have a 16 each channel will be devoted to separate feature\n",
    "3. Our weights calculates as follow kernel size 5x5 x input channels size whih is giving us in total 5x5x1 = 25\n",
    "4. Then we multupy num of params per feature x number of features and add bias equals to 16 - 1 bias per channel\n",
    "5. 25X16+16=416\n",
    "6. (3×3×16×32)+32=144×32+32=4608+32=4640 (3x3x16 - is the kernel size)\n",
    "7. (3x3x32x64)+64=18496"
   ]
  },
  {
   "cell_type": "code",
   "execution_count": 9,
   "id": "1d90a3c3-d7bc-4474-b230-95fd7d4e6af0",
   "metadata": {},
   "outputs": [
    {
     "data": {
      "text/html": [
       "<pre style=\"white-space:pre;overflow-x:auto;line-height:normal;font-family:Menlo,'DejaVu Sans Mono',consolas,'Courier New',monospace\"><span style=\"font-weight: bold\">Model: \"functional\"</span>\n",
       "</pre>\n"
      ],
      "text/plain": [
       "\u001b[1mModel: \"functional\"\u001b[0m\n"
      ]
     },
     "metadata": {},
     "output_type": "display_data"
    },
    {
     "data": {
      "text/html": [
       "<pre style=\"white-space:pre;overflow-x:auto;line-height:normal;font-family:Menlo,'DejaVu Sans Mono',consolas,'Courier New',monospace\">┏━━━━━━━━━━━━━━━━━━━━━━━━━━━━━━━━━┳━━━━━━━━━━━━━━━━━━━━━━━━┳━━━━━━━━━━━━━━━┓\n",
       "┃<span style=\"font-weight: bold\"> Layer (type)                    </span>┃<span style=\"font-weight: bold\"> Output Shape           </span>┃<span style=\"font-weight: bold\">       Param # </span>┃\n",
       "┡━━━━━━━━━━━━━━━━━━━━━━━━━━━━━━━━━╇━━━━━━━━━━━━━━━━━━━━━━━━╇━━━━━━━━━━━━━━━┩\n",
       "│ input_layer (<span style=\"color: #0087ff; text-decoration-color: #0087ff\">InputLayer</span>)        │ (<span style=\"color: #00d7ff; text-decoration-color: #00d7ff\">None</span>, <span style=\"color: #00af00; text-decoration-color: #00af00\">32</span>, <span style=\"color: #00af00; text-decoration-color: #00af00\">32</span>, <span style=\"color: #00af00; text-decoration-color: #00af00\">1</span>)      │             <span style=\"color: #00af00; text-decoration-color: #00af00\">0</span> │\n",
       "├─────────────────────────────────┼────────────────────────┼───────────────┤\n",
       "│ conv2d (<span style=\"color: #0087ff; text-decoration-color: #0087ff\">Conv2D</span>)                 │ (<span style=\"color: #00d7ff; text-decoration-color: #00d7ff\">None</span>, <span style=\"color: #00af00; text-decoration-color: #00af00\">16</span>, <span style=\"color: #00af00; text-decoration-color: #00af00\">16</span>, <span style=\"color: #00af00; text-decoration-color: #00af00\">16</span>)     │           <span style=\"color: #00af00; text-decoration-color: #00af00\">416</span> │\n",
       "├─────────────────────────────────┼────────────────────────┼───────────────┤\n",
       "│ conv2d_1 (<span style=\"color: #0087ff; text-decoration-color: #0087ff\">Conv2D</span>)               │ (<span style=\"color: #00d7ff; text-decoration-color: #00d7ff\">None</span>, <span style=\"color: #00af00; text-decoration-color: #00af00\">8</span>, <span style=\"color: #00af00; text-decoration-color: #00af00\">8</span>, <span style=\"color: #00af00; text-decoration-color: #00af00\">32</span>)       │         <span style=\"color: #00af00; text-decoration-color: #00af00\">4,640</span> │\n",
       "├─────────────────────────────────┼────────────────────────┼───────────────┤\n",
       "│ conv2d_2 (<span style=\"color: #0087ff; text-decoration-color: #0087ff\">Conv2D</span>)               │ (<span style=\"color: #00d7ff; text-decoration-color: #00d7ff\">None</span>, <span style=\"color: #00af00; text-decoration-color: #00af00\">4</span>, <span style=\"color: #00af00; text-decoration-color: #00af00\">4</span>, <span style=\"color: #00af00; text-decoration-color: #00af00\">64</span>)       │        <span style=\"color: #00af00; text-decoration-color: #00af00\">18,496</span> │\n",
       "├─────────────────────────────────┼────────────────────────┼───────────────┤\n",
       "│ conv2d_3 (<span style=\"color: #0087ff; text-decoration-color: #0087ff\">Conv2D</span>)               │ (<span style=\"color: #00d7ff; text-decoration-color: #00d7ff\">None</span>, <span style=\"color: #00af00; text-decoration-color: #00af00\">2</span>, <span style=\"color: #00af00; text-decoration-color: #00af00\">2</span>, <span style=\"color: #00af00; text-decoration-color: #00af00\">64</span>)       │        <span style=\"color: #00af00; text-decoration-color: #00af00\">36,928</span> │\n",
       "├─────────────────────────────────┼────────────────────────┼───────────────┤\n",
       "│ flatten (<span style=\"color: #0087ff; text-decoration-color: #0087ff\">Flatten</span>)               │ (<span style=\"color: #00d7ff; text-decoration-color: #00d7ff\">None</span>, <span style=\"color: #00af00; text-decoration-color: #00af00\">256</span>)            │             <span style=\"color: #00af00; text-decoration-color: #00af00\">0</span> │\n",
       "├─────────────────────────────────┼────────────────────────┼───────────────┤\n",
       "│ dense (<span style=\"color: #0087ff; text-decoration-color: #0087ff\">Dense</span>)                   │ (<span style=\"color: #00d7ff; text-decoration-color: #00d7ff\">None</span>, <span style=\"color: #00af00; text-decoration-color: #00af00\">64</span>)             │        <span style=\"color: #00af00; text-decoration-color: #00af00\">16,448</span> │\n",
       "├─────────────────────────────────┼────────────────────────┼───────────────┤\n",
       "│ dense_1 (<span style=\"color: #0087ff; text-decoration-color: #0087ff\">Dense</span>)                 │ (<span style=\"color: #00d7ff; text-decoration-color: #00d7ff\">None</span>, <span style=\"color: #00af00; text-decoration-color: #00af00\">1</span>)              │            <span style=\"color: #00af00; text-decoration-color: #00af00\">65</span> │\n",
       "└─────────────────────────────────┴────────────────────────┴───────────────┘\n",
       "</pre>\n"
      ],
      "text/plain": [
       "┏━━━━━━━━━━━━━━━━━━━━━━━━━━━━━━━━━┳━━━━━━━━━━━━━━━━━━━━━━━━┳━━━━━━━━━━━━━━━┓\n",
       "┃\u001b[1m \u001b[0m\u001b[1mLayer (type)                   \u001b[0m\u001b[1m \u001b[0m┃\u001b[1m \u001b[0m\u001b[1mOutput Shape          \u001b[0m\u001b[1m \u001b[0m┃\u001b[1m \u001b[0m\u001b[1m      Param #\u001b[0m\u001b[1m \u001b[0m┃\n",
       "┡━━━━━━━━━━━━━━━━━━━━━━━━━━━━━━━━━╇━━━━━━━━━━━━━━━━━━━━━━━━╇━━━━━━━━━━━━━━━┩\n",
       "│ input_layer (\u001b[38;5;33mInputLayer\u001b[0m)        │ (\u001b[38;5;45mNone\u001b[0m, \u001b[38;5;34m32\u001b[0m, \u001b[38;5;34m32\u001b[0m, \u001b[38;5;34m1\u001b[0m)      │             \u001b[38;5;34m0\u001b[0m │\n",
       "├─────────────────────────────────┼────────────────────────┼───────────────┤\n",
       "│ conv2d (\u001b[38;5;33mConv2D\u001b[0m)                 │ (\u001b[38;5;45mNone\u001b[0m, \u001b[38;5;34m16\u001b[0m, \u001b[38;5;34m16\u001b[0m, \u001b[38;5;34m16\u001b[0m)     │           \u001b[38;5;34m416\u001b[0m │\n",
       "├─────────────────────────────────┼────────────────────────┼───────────────┤\n",
       "│ conv2d_1 (\u001b[38;5;33mConv2D\u001b[0m)               │ (\u001b[38;5;45mNone\u001b[0m, \u001b[38;5;34m8\u001b[0m, \u001b[38;5;34m8\u001b[0m, \u001b[38;5;34m32\u001b[0m)       │         \u001b[38;5;34m4,640\u001b[0m │\n",
       "├─────────────────────────────────┼────────────────────────┼───────────────┤\n",
       "│ conv2d_2 (\u001b[38;5;33mConv2D\u001b[0m)               │ (\u001b[38;5;45mNone\u001b[0m, \u001b[38;5;34m4\u001b[0m, \u001b[38;5;34m4\u001b[0m, \u001b[38;5;34m64\u001b[0m)       │        \u001b[38;5;34m18,496\u001b[0m │\n",
       "├─────────────────────────────────┼────────────────────────┼───────────────┤\n",
       "│ conv2d_3 (\u001b[38;5;33mConv2D\u001b[0m)               │ (\u001b[38;5;45mNone\u001b[0m, \u001b[38;5;34m2\u001b[0m, \u001b[38;5;34m2\u001b[0m, \u001b[38;5;34m64\u001b[0m)       │        \u001b[38;5;34m36,928\u001b[0m │\n",
       "├─────────────────────────────────┼────────────────────────┼───────────────┤\n",
       "│ flatten (\u001b[38;5;33mFlatten\u001b[0m)               │ (\u001b[38;5;45mNone\u001b[0m, \u001b[38;5;34m256\u001b[0m)            │             \u001b[38;5;34m0\u001b[0m │\n",
       "├─────────────────────────────────┼────────────────────────┼───────────────┤\n",
       "│ dense (\u001b[38;5;33mDense\u001b[0m)                   │ (\u001b[38;5;45mNone\u001b[0m, \u001b[38;5;34m64\u001b[0m)             │        \u001b[38;5;34m16,448\u001b[0m │\n",
       "├─────────────────────────────────┼────────────────────────┼───────────────┤\n",
       "│ dense_1 (\u001b[38;5;33mDense\u001b[0m)                 │ (\u001b[38;5;45mNone\u001b[0m, \u001b[38;5;34m1\u001b[0m)              │            \u001b[38;5;34m65\u001b[0m │\n",
       "└─────────────────────────────────┴────────────────────────┴───────────────┘\n"
      ]
     },
     "metadata": {},
     "output_type": "display_data"
    },
    {
     "data": {
      "text/html": [
       "<pre style=\"white-space:pre;overflow-x:auto;line-height:normal;font-family:Menlo,'DejaVu Sans Mono',consolas,'Courier New',monospace\"><span style=\"font-weight: bold\"> Total params: </span><span style=\"color: #00af00; text-decoration-color: #00af00\">76,993</span> (300.75 KB)\n",
       "</pre>\n"
      ],
      "text/plain": [
       "\u001b[1m Total params: \u001b[0m\u001b[38;5;34m76,993\u001b[0m (300.75 KB)\n"
      ]
     },
     "metadata": {},
     "output_type": "display_data"
    },
    {
     "data": {
      "text/html": [
       "<pre style=\"white-space:pre;overflow-x:auto;line-height:normal;font-family:Menlo,'DejaVu Sans Mono',consolas,'Courier New',monospace\"><span style=\"font-weight: bold\"> Trainable params: </span><span style=\"color: #00af00; text-decoration-color: #00af00\">76,993</span> (300.75 KB)\n",
       "</pre>\n"
      ],
      "text/plain": [
       "\u001b[1m Trainable params: \u001b[0m\u001b[38;5;34m76,993\u001b[0m (300.75 KB)\n"
      ]
     },
     "metadata": {},
     "output_type": "display_data"
    },
    {
     "data": {
      "text/html": [
       "<pre style=\"white-space:pre;overflow-x:auto;line-height:normal;font-family:Menlo,'DejaVu Sans Mono',consolas,'Courier New',monospace\"><span style=\"font-weight: bold\"> Non-trainable params: </span><span style=\"color: #00af00; text-decoration-color: #00af00\">0</span> (0.00 B)\n",
       "</pre>\n"
      ],
      "text/plain": [
       "\u001b[1m Non-trainable params: \u001b[0m\u001b[38;5;34m0\u001b[0m (0.00 B)\n"
      ]
     },
     "metadata": {},
     "output_type": "display_data"
    }
   ],
   "source": [
    "img_size= 32\n",
    "ch_n= 1\n",
    "\n",
    "ebm_input= layers.Input(\n",
    "    shape=(img_size, img_size, ch_n)\n",
    ")\n",
    "\n",
    "x= layers.Conv2D(\n",
    "    16,\n",
    "    kernel_size=5,\n",
    "    strides=2,\n",
    "    padding='same',\n",
    "    activation= activations.swish\n",
    ")(ebm_input)\n",
    "\n",
    "x= layers.Conv2D(\n",
    "    32,\n",
    "    kernel_size=3,\n",
    "    strides=2,\n",
    "    padding='same',\n",
    "    activation=activations.swish\n",
    ")(x)\n",
    "x= layers.Conv2D(\n",
    "    64,\n",
    "    kernel_size=3,\n",
    "    strides=2,\n",
    "    padding='same',\n",
    "    activation=activations.swish\n",
    ")(x)\n",
    "x= layers.Conv2D(\n",
    "    64,\n",
    "    kernel_size=3,\n",
    "    strides=2,\n",
    "    padding='same',\n",
    "    activation=activations.swish\n",
    ")(x)\n",
    "\n",
    "x= layers.Flatten()(x)\n",
    "x= layers.Dense(\n",
    "    64,\n",
    "    activation= activations.swish\n",
    ")(x)\n",
    "\n",
    "# The output is the single number known as E-energy\n",
    "# The energy represents likelihood. The lower the energy - the higher is likelihood\n",
    "ebm_output= layers.Dense(1)(x)\n",
    "\n",
    "model= models.Model(ebm_input, ebm_output)\n",
    "model.summary()"
   ]
  },
  {
   "cell_type": "markdown",
   "id": "9724c83b-efb8-4013-b4de-8f0458469351",
   "metadata": {},
   "source": [
    "### Sampling\n",
    "\n",
    "We are going to sampling based on Markov's Chain Momte Carlo using a Langevin Dynamics\n",
    "$\n",
    "      \\tilde{x}^k \\leftarrow \\tilde{x}^{k-1} - \\eta \\nabla_x E_\\theta(\\tilde{x}^{k-1}) + \\omega, \n",
    "$\n",
    "\n",
    "\n",
    "#### Algorithm Structure\n",
    "\n",
    "1. **Initialization:**  \n",
    "Sample an initial value $\\tilde{x}^k, k=1$ from a Gaussian or uniform distribution. This is a random starting point for our Markov chain.\n",
    "\n",
    "2. **Main Loop  \n",
    "Steps (k = 1) to (K):**\n",
    "```python\n",
    "for _ in range(steps):\n",
    "```\n",
    "- Each step moves us closer to more probable samples using two operations:\n",
    "\n",
    "   - **Gradient Step:**  \n",
    "   $\n",
    "      \\tilde{x}^k \\leftarrow \\tilde{x}^{k-1} - \\eta \\nabla_x E_\\theta(\\tilde{x}^{k-1}) + \\omega, \n",
    "   $\n",
    "  where $\\eta$ is the step size, controlling how far we move in the opposite direction of the gradient to increase probability and $\\omega \\sim \\mathcal{N}(0, \\sigma)$ is random noise.\n",
    "\n",
    "$E_\\theta(\\tilde{x}^{k-1})$ i.e. \n",
    "```python \n",
    "out_score= model(in_imgs)  \n",
    "```\n",
    "\n",
    "$\\nabla_x$ i.e.\n",
    "```python\n",
    "grads= tape.gradient(out_score, in_imgs)  \n",
    "```\n",
    "\n",
    "$\\omega \\sim \\mathcal{N}(0, \\sigma)$ i.e.\n",
    "```python\n",
    "in_imgs += tf.random.normal(in_imgs.shape, mean=0, stddev=noise)\n",
    "```\n",
    "\n",
    "  - **Noise Addition:**  \n",
    "  $\n",
    "  \\tilde{x}^k + \\omega\n",
    "  $\n",
    "  where $\\omega \\sim \\mathcal{N}(0, \\sigma)$ is random noise sampled from a normal distribution with mean zero and standard deviation $\\sigma$.\n",
    "  \n",
    "  This noise helps to prevent getting stuck in local minima, making the process more robust by introducing randomness.\n",
    "\n",
    "**Result:**\n",
    "\n",
    "After completing $\\(K\\)$ steps (where $\\(K\\)$ is a hyperparameter that determines the number of iterations), we obtain the sample \n",
    "$\n",
    "x_{\\text{sample}} = \\tilde{x}^K\n",
    "$\n",
    "which reflects the probability distribution described by the energy-based model."
   ]
  },
  {
   "cell_type": "code",
   "execution_count": 10,
   "id": "6e5dfaa0-35ed-442f-810d-9370490fe7a8",
   "metadata": {},
   "outputs": [],
   "source": [
    "def generate_samples(model, in_imgs, steps, step_size, noise, return_img_per_step=False):\n",
    "    '''\n",
    "    Generates samples from an ebm based on Markov Chain Monte Carlo using Langevin Dynamics.\n",
    "\n",
    "    This functions performs sampling by applying a MCMC method based on Langevin Dynamics. The algorythm, once starting from\n",
    "    a compleetly random image, them updates it iteratively by adding noise and using the gradienf of the energy model to change the image so that the likelihood\n",
    "    is increasing as well energy is decreasing on each iteration. \n",
    "\n",
    "    Parameters:\n",
    "    -----------\n",
    "    model: tf.keras.Model\n",
    "        The EBM model used to compute the energy scores\n",
    "    in_imgs: tf.Tensor\n",
    "        Initialy input images\n",
    "    steps: int\n",
    "        The number of steps to perform in the Langevin Dynamics chain\n",
    "    step_size: float\n",
    "        Learning rate nu in the MCMC algorythm\n",
    "    noise: float\n",
    "        Standard deviation of the Gaussian noise added to the input images at each step\n",
    "    return_img_per_step: bool, optional (default=False)\n",
    "        If True, returns all intermediate images for each step of the MCMC chain. Otherwise only returns the final set of images.\n",
    "\n",
    "    Returns:\n",
    "    --------\n",
    "    tf.Tensor\n",
    "        If 'return_img_per_step' is False, returns the final step of generated samples.\n",
    "        Else, returns a tensor containing intermediate images for each step of the MCMC chain with shape (steps, ...)\n",
    "\n",
    "    Notes:\n",
    "    ------\n",
    "    - The input images are iteratively updated using the gradient of the energy function and additive Gaussian noise to explore\n",
    "      the modeled distribution.\n",
    "    - Pixel values are clipped within the range [-1,1] to ensure they remain within a valid range.\n",
    "    - Gradients are clipped to a small range [-.03,.03] to avoid large gradients that could destabilize the sampling process\n",
    "    \n",
    "    '''\n",
    "    \n",
    "    # If return_img_per_each_step=True, store images in the list\n",
    "    imgs_per_step= []\n",
    "\n",
    "    for _ in range(steps):\n",
    "        # Add random noise from normal distribution. For every pixel in image we generate a ranodom noise \n",
    "        # from normal distribution with 0 mean and standard deviation\n",
    "        in_imgs += tf.random.normal(in_imgs.shape, mean=0, stddev=noise)\n",
    "        # Restrict pixel values to range -1,1\n",
    "        in_imgs = tf.clip_by_value(in_imgs, -1.0, 1.0)\n",
    "\n",
    "        # Calc model gradient related to images. We need it as we want to update images based on gradient, which is help us\n",
    "        # identify direction of change either lower or higher energy\n",
    "        with tf.GradientTape() as tape:\n",
    "            tape.watch(in_imgs)            \n",
    "            out_score= model(in_imgs)\n",
    "\n",
    "        grads= tape.gradient(out_score, in_imgs)\n",
    "        grads= tf.clip_by_value(grads, -.03, .03)\n",
    "        \n",
    "        # Update image tensor in the direction of calculated gradient\n",
    "        in_imgs += step_size * grads\n",
    "        \n",
    "        in_imgs = tf.clip_by_value(in_imgs, -1.0, 1.0)\n",
    "        \n",
    "        if return_img_per_step:\n",
    "            imgs_per_step.append(in_imgs)\n",
    "            \n",
    "    if return_img_per_step:\n",
    "        return tf.stack(imgs_per_step, axis=0)\n",
    "    else:\n",
    "        return in_imgs"
   ]
  },
  {
   "cell_type": "markdown",
   "id": "0aec6d1d-05e6-401a-853c-e5c6ef78ab23",
   "metadata": {},
   "source": [
    "### Buffer"
   ]
  },
  {
   "cell_type": "code",
   "execution_count": 11,
   "id": "46c63cc0-e839-46cb-bb62-66ce3e06d73d",
   "metadata": {},
   "outputs": [],
   "source": [
    "\n",
    "class Buffer:\n",
    "    def __init__(self, model):\n",
    "        super().__init__()\n",
    "        self.model=model\n",
    "\n",
    "        # Initialize batch_size tensor with random values from normal distribution and then shift these values to the range \n",
    "        # [-1,1], by [0*2,1*2] = [0,2], [0-1,2-1] = [-1,1]\n",
    "        self.examples= [\n",
    "            tf.random.uniform(shape=(1, img_size, img_size, ch_n)) * 2 -1 for _ in range(batch_size)\n",
    "        ]\n",
    "\n",
    "    def sample_new_examples(self, steps, step_size, noise, buffer_size= 8192):\n",
    "        # Generate randomly number 5% from normal distribution size of batch_size  which will be use for number of random images that needs to be \n",
    "        # selected from the self.examples\n",
    "        n_new= np.random.binomial(batch_size, 0.05)\n",
    "\n",
    "        # Generate random images %5 from batch\n",
    "        random_imgs= (\n",
    "            tf.random.uniform(\n",
    "                (\n",
    "                    n_new, \n",
    "                    img_size, \n",
    "                    img_size, \n",
    "                    ch_n\n",
    "                )\n",
    "            ) * 2 -1)\n",
    "\n",
    "        # Leave 95% of old images from batch\n",
    "        old_imgs= tf.concat(\n",
    "            random.choices(\n",
    "                self.examples, \n",
    "                k=batch_size - n_new\n",
    "            ), axis=0)\n",
    "\n",
    "        #  mix 95% of old images with 5% newly generated images\n",
    "        inp_imgs= tf.concat(\n",
    "            [\n",
    "                random_imgs, \n",
    "                old_imgs\n",
    "            ], axis=0)\n",
    "\n",
    "        # Generate new fake images based on just created set. The new images will be closer to the model distribution and thus will replace old set\n",
    "        inp_imgs= generate_samples(\n",
    "            self.model, \n",
    "            inp_imgs,\n",
    "            steps=steps,\n",
    "            step_size=step_size,\n",
    "            noise=noise\n",
    "        )\n",
    "\n",
    "        # save progress by updating old images and adding new\n",
    "        self.examples= tf.split(\n",
    "            inp_imgs,\n",
    "            batch_size,\n",
    "            axis=0\n",
    "        ) + self.examples\n",
    "\n",
    "        self.examples= self.examples[:buffer_size]\n",
    "\n",
    "        return inp_imgs\n",
    "        "
   ]
  },
  {
   "cell_type": "markdown",
   "id": "a1f6f271-031c-4437-90e1-35d9c4d34ce6",
   "metadata": {},
   "source": [
    "### Model"
   ]
  },
  {
   "cell_type": "code",
   "execution_count": 12,
   "id": "f13360a6-febf-4f41-a849-625a2646020a",
   "metadata": {},
   "outputs": [],
   "source": [
    "noise= 5e-3\n",
    "steps=60\n",
    "step_size= 10\n",
    "\n",
    "class EBM(models.Model):\n",
    "    def __init__(self):\n",
    "        super(EBM, self).__init__()\n",
    "        self.model= model\n",
    "        self.buffer= Buffer(self.model)\n",
    "        self.alpha= .1\n",
    "        self.loss_metric= metrics.Mean(name='loss')\n",
    "        self.reg_loss_metric= metrics.Mean(name='reg')\n",
    "        self.cdiv_loss_metric= metrics.Mean(name='cdiv')\n",
    "        self.real_out_metric= metrics.Mean(name='real')\n",
    "        self.fake_out_metric= metrics.Mean(name='fake')\n",
    "\n",
    "    @property\n",
    "    def metrics(self):\n",
    "        return [\n",
    "            self.loss_metric,\n",
    "            self.reg_loss_metric,\n",
    "            self.cdiv_loss_metric,\n",
    "            self.real_out_metric,\n",
    "            self.fake_out_metric\n",
    "        ]\n",
    "\n",
    "    def train_step(self, real_imgs):\n",
    "        # Add noise\n",
    "        real_imgs += tf.random.normal(shape=tf.shape(real_imgs), mean=0, stddev=noise)\n",
    "        real_imgs = tf.clip_by_value(real_imgs, -1.0, 1.0)\n",
    "        # Sample images from buffer\n",
    "        fake_imgs = self.buffer.sample_new_examples(steps=steps, step_size=step_size, noise=noise)\n",
    "        inp_imgs = tf.concat([real_imgs, fake_imgs], axis=0)\n",
    "\n",
    "        with tf.GradientTape() as tape:\n",
    "            real_out, fake_out= tf.split(self.model(inp_imgs), 2, axis=0)\n",
    "            # Calculate diffrence betweem real and fale images\n",
    "            cdiv_loss = tf.reduce_mean(fake_out, axis=0) - tf.reduce_mean(real_out, axis=0)\n",
    "            # reduce model energy\n",
    "            reg_loss= self.alpha * tf.reduce_mean(real_out**2 + fake_out**2, axis=0)\n",
    "            loss= cdiv_loss + reg_loss\n",
    "\n",
    "        grads = tape.gradient(loss, self.model.trainable_variables)\n",
    "        self.optimizer.apply_gradients(zip(grads, self.model.trainable_variables))\n",
    "\n",
    "        self.loss_metric.update_state(loss)\n",
    "        self.reg_loss_metric.update_state(reg_loss)\n",
    "        self.cdiv_loss_metric.update_state(cdiv_loss)\n",
    "        self.real_out_metric.update_state(tf.reduce_mean(real_out, axis=0))\n",
    "        self.fake_out_metric.update_state(tf.reduce_mean(fake_out, axis=0))\n",
    "\n",
    "        return { m.name: m.result() for m in self.metrics }\n",
    "\n",
    "    def test_step(self, real_imgs):\n",
    "        batch_size= real_imgs.shape[0]\n",
    "        fake_imgs= tf.random.uniform((batch_size, img_size, img_size, ch_n)) *2 -1\n",
    "        inp_imgs = tf.concat([real_imgs, fake_imgs], axis=0)\n",
    "        real_out, fake_out= tf.split(self.model(inp_imgs), 2, axis=0)\n",
    "        cdiv= tf.reduce_mean(fake_out, axis=0) - tf.reduce_mean(real_out, axis=0)\n",
    "        self.cdiv_loss_metric.update_state(cdiv)\n",
    "        self.real_out_metric.update_state(tf.reduce_mean(real_out, axis=0))\n",
    "        self.fake_out_metric.update_state(tf.reduce_mean(fake_out, axis=0))\n",
    "\n",
    "        return {m.name: m.result() for m in self.metrics[2:]}\n",
    "        "
   ]
  },
  {
   "cell_type": "code",
   "execution_count": 13,
   "id": "8b4c3c2f-ba0a-4753-96de-ca58b5acc73c",
   "metadata": {},
   "outputs": [],
   "source": [
    "ebm = EBM()"
   ]
  },
  {
   "cell_type": "code",
   "execution_count": 14,
   "id": "2371bb98-a9ac-4a04-bbb5-57419742a780",
   "metadata": {},
   "outputs": [],
   "source": [
    "learning_rate= 5e-4\n",
    "\n",
    "ebm.compile(\n",
    "    optimizer=optimizers.Adam(learning_rate=learning_rate),\n",
    "    run_eagerly=True\n",
    ")"
   ]
  },
  {
   "cell_type": "code",
   "execution_count": 15,
   "id": "3c8322c5-11ad-473d-84d4-0b671429c3d0",
   "metadata": {},
   "outputs": [],
   "source": [
    "log_dir='./logs/ebm/mnist/' + datetime.datetime.now().strftime('%Y%m%d-%H%M%S')\n",
    "\n",
    "tensorboard_callback= callbacks.TensorBoard(log_dir=log_dir)"
   ]
  },
  {
   "cell_type": "code",
   "execution_count": 16,
   "id": "0623ce7e-a2ac-4b5f-a6a8-323f8632f91b",
   "metadata": {},
   "outputs": [],
   "source": [
    "class ImageGenerator(callbacks.Callback):\n",
    "    def __init__(self, num_img, save_to):\n",
    "        self.num_img=num_img\n",
    "        self.save_to=save_to\n",
    "\n",
    "    def on_epoch_end(self, epoch, logs=None):\n",
    "        start_imgs = (\n",
    "            np.random.uniform(\n",
    "                size=(self.num_img, img_size, img_size, ch_n)\n",
    "            )\n",
    "            * 2\n",
    "            - 1\n",
    "        )\n",
    "        generated_images= generate_samples(\n",
    "            ebm.model,\n",
    "            start_imgs,\n",
    "            steps=1000,\n",
    "            step_size=step_size,\n",
    "            noise=noise,\n",
    "            return_img_per_step=False\n",
    "        )\n",
    "        generated_images= generated_images.numpy()\n",
    "        export_path=self.save_to + '/generated_img%03d.png' % (epoch)\n",
    "        \n",
    "        display_img(\n",
    "            generated_images,\n",
    "            save_to=export_path            \n",
    "        )\n",
    "        \n",
    "        example_images = tf.concat(\n",
    "            random.choices(ebm.buffer.examples, k=10), axis=0\n",
    "        )\n",
    "        \n",
    "        example_images = example_images.numpy()\n",
    "        export_path=self.save_to + '/example_img_%03d.png' % (epoch)\n",
    "        \n",
    "        display_img(\n",
    "            example_images,\n",
    "            n=10,\n",
    "            save_to=export_path            \n",
    "        )\n",
    "        \n",
    "\n",
    "image_generator_callback=ImageGenerator(num_img=10, save_to=log_dir + '/images')"
   ]
  },
  {
   "cell_type": "code",
   "execution_count": null,
   "id": "21d5c524-76c7-405f-a82f-986f69eadb9b",
   "metadata": {
    "scrolled": true
   },
   "outputs": [
    {
     "name": "stdout",
     "output_type": "stream",
     "text": [
      "Epoch 1/60\n"
     ]
    },
    {
     "name": "stderr",
     "output_type": "stream",
     "text": [
      "2024-11-16 23:13:46.197934: I external/local_xla/xla/stream_executor/cuda/cuda_dnn.cc:465] Loaded cuDNN version 8907\n"
     ]
    },
    {
     "name": "stdout",
     "output_type": "stream",
     "text": [
      "\u001b[1m469/469\u001b[0m \u001b[32m━━━━━━━━━━━━━━━━━━━━\u001b[0m\u001b[37m\u001b[0m \u001b[1m0s\u001b[0m 1s/step - cdiv: -0.0656 - fake: 0.1815 - loss: -0.0382 - real: 0.2471 - reg: 0.0274"
     ]
    },
    {
     "data": {
      "image/png": "[encoded data removed]",
      "text/plain": [
       "<Figure size 2000x300 with 1 Axes>"
      ]
     },
     "metadata": {},
     "output_type": "display_data"
    },
    {
     "data": {
      "image/png": "[encoded data removed]",
      "text/plain": [
       "<Figure size 2000x300 with 10 Axes>"
      ]
     },
     "metadata": {},
     "output_type": "display_data"
    },
    {
     "name": "stdout",
     "output_type": "stream",
     "text": [
      "\u001b[1m469/469\u001b[0m \u001b[32m━━━━━━━━━━━━━━━━━━━━\u001b[0m\u001b[37m\u001b[0m \u001b[1m721s\u001b[0m 2s/step - cdiv: -0.0655 - fake: 0.1812 - loss: -0.0381 - real: 0.2468 - reg: 0.0274 - val_cdiv: -2.1404 - val_real: 0.0162 - val_fake: -2.1242\n",
      "Epoch 2/60\n",
      "\u001b[1m469/469\u001b[0m \u001b[32m━━━━━━━━━━━━━━━━━━━━\u001b[0m\u001b[37m\u001b[0m \u001b[1m0s\u001b[0m 2s/step - cdiv: 0.0016 - fake: 0.0046 - loss: 0.0022 - real: 0.0030 - reg: 5.6303e-04"
     ]
    },
    {
     "data": {
      "image/png": "[encoded data removed]",
      "text/plain": [
       "<Figure size 2000x300 with 1 Axes>"
      ]
     },
     "metadata": {},
     "output_type": "display_data"
    },
    {
     "data": {
      "image/png": "[encoded data removed]",
      "text/plain": [
       "<Figure size 2000x300 with 10 Axes>"
      ]
     },
     "metadata": {},
     "output_type": "display_data"
    },
    {
     "name": "stdout",
     "output_type": "stream",
     "text": [
      "\u001b[1m469/469\u001b[0m \u001b[32m━━━━━━━━━━━━━━━━━━━━\u001b[0m\u001b[37m\u001b[0m \u001b[1m771s\u001b[0m 2s/step - cdiv: 0.0016 - fake: 0.0046 - loss: 0.0022 - real: 0.0030 - reg: 5.6277e-04 - val_cdiv: -2.9549 - val_real: -0.0613 - val_fake: -3.0162\n",
      "Epoch 3/60\n",
      "\u001b[1m468/469\u001b[0m \u001b[32m━━━━━━━━━━━━━━━━━━━\u001b[0m\u001b[37m━\u001b[0m \u001b[1m1s\u001b[0m 2s/step - cdiv: 5.3210e-04 - fake: 0.0016 - loss: 0.0012 - real: 0.0011 - reg: 6.4988e-04"
     ]
    }
   ],
   "source": [
    "%%time\n",
    "\n",
    "x_test_r = x_test.take(1)\n",
    "x_train_r = x_train.take(1)\n",
    "ebm.fit(\n",
    "    x_train,\n",
    "    shuffle=True,\n",
    "    epochs=60,\n",
    "    validation_data=x_test,\n",
    "    callbacks=[\n",
    "        tensorboard_callback,\n",
    "        image_generator_callback\n",
    "    ]\n",
    ")"
   ]
  },
  {
   "cell_type": "code",
   "execution_count": null,
   "id": "e91ac5c7-3d34-4565-a4d7-3c6d05e46608",
   "metadata": {},
   "outputs": [],
   "source": []
  },
  {
   "cell_type": "markdown",
   "id": "825b57e1-014a-450f-82b9-aed89e957b42",
   "metadata": {},
   "source": [
    "https://www.youtube.com/watch?app=desktop&v=kq6mpyjSQ3w what is gradients1\n",
    "https://www.youtube.com/watch?v=ODPjd05FmkI what is gradients2"
   ]
  }
 ],
 "metadata": {
  "kernelspec": {
   "display_name": "Python 3 (ipykernel)",
   "language": "python",
   "name": "python3"
  },
  "language_info": {
   "codemirror_mode": {
    "name": "ipython",
    "version": 3
   },
   "file_extension": ".py",
   "mimetype": "text/x-python",
   "name": "python",
   "nbconvert_exporter": "python",
   "pygments_lexer": "ipython3",
   "version": "3.11.10"
  }
 },
 "nbformat": 4,
 "nbformat_minor": 5
}
