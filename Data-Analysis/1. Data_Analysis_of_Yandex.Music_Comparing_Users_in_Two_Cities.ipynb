{
 "cells": [
  {
   "cell_type": "markdown",
   "metadata": {
    "deletable": false,
    "editable": true,
    "id": "E0vqbgi9ay0H",
    "slideshow": {
     "slide_type": ""
    },
    "tags": []
   },
   "source": [
    "# PROJECT: Data Analysis of Yandex.Music - Comparing Users in Two Cities"
   ]
  },
  {
   "cell_type": "markdown",
   "metadata": {
    "deletable": false,
    "editable": true,
    "id": "VUC88oWjTJw2",
    "slideshow": {
     "slide_type": ""
    },
    "tags": []
   },
   "source": [
    "**Research Goal** To test three hypotheses:\n",
    "\n",
    "Hypothesis 1: User activity depends on the day of the week, manifesting differently in Moscow and St. Petersburg.\n",
    "\n",
    "    H0: User activity is not dependent on the day of the week, and there are no differences in activity between Moscow and St. Petersburg.\n",
    "\n",
    "    H1: User activity is dependent on the day of the week, and there are differences in activity between Moscow and St. Petersburg.\n",
    "\n",
    "Hypothesis 2: Different music genres dominate on Monday mornings and Friday evenings depending on the city (Moscow/St. Petersburg).\n",
    "\n",
    "    H0: There are no differences in the dominant music genres between Moscow and St. Petersburg on Monday mornings and Friday evenings.\n",
    "\n",
    "    H1: There are differences in the dominant music genres between Moscow and St. Petersburg on Monday mornings and Friday evenings.\n",
    "\n",
    "Hypothesis 3: Moscow and St. Petersburg prefer different music genres: Moscow prefers pop music, St. Petersburg prefers Russian rap.\n",
    "\n",
    "    H0: There are no differences in music preferences between Moscow and St. Petersburg.\n",
    "\n",
    "    H1: Moscow prefers pop music, and St. Petersburg prefers Russian rap.\n",
    "\n",
    "**ASSUMPTIONS**\n",
    "\n",
    "In practice, research often includes statistical hypothesis testing. While we did not use such tests in this project, it's important to note that these tests could provide valuable insights into the reliability of our findings based on the available data.\n",
    "\n",
    "It's crucial to acknowledge that data from a single service may not always be representative of the entire population of a city. Our analysis relies solely on information from users of one specific service."
   ]
  },
  {
   "cell_type": "markdown",
   "metadata": {
    "editable": true,
    "slideshow": {
     "slide_type": ""
    },
    "tags": []
   },
   "source": [
    "## Setup"
   ]
  },
  {
   "cell_type": "markdown",
   "metadata": {
    "editable": true,
    "slideshow": {
     "slide_type": ""
    },
    "tags": []
   },
   "source": [
    "### Imports"
   ]
  },
  {
   "cell_type": "code",
   "execution_count": 27,
   "metadata": {
    "editable": true,
    "slideshow": {
     "slide_type": ""
    },
    "tags": []
   },
   "outputs": [],
   "source": [
    "import pandas as pd"
   ]
  },
  {
   "cell_type": "markdown",
   "metadata": {
    "editable": true,
    "slideshow": {
     "slide_type": ""
    },
    "tags": []
   },
   "source": [
    "### Functions"
   ]
  },
  {
   "cell_type": "code",
   "execution_count": 28,
   "metadata": {
    "editable": true,
    "slideshow": {
     "slide_type": ""
    },
    "tags": []
   },
   "outputs": [],
   "source": [
    "# Function number_tracks() with two parameters: day, city.\n",
    "def number_tracks(day, city):\n",
    "    '''\n",
    "    Function calculates the number of tracks listened to for a given day and city\n",
    "    '''\n",
    "    # The track_list variable stores the rows of the df table for which\n",
    "    # the value in the 'day' column equals the day parameter and at the same time the value\n",
    "    # in the 'city' column is equal to the city parameter (use sequential filtering\n",
    "    # using boolean indexing or complex boolean expressions in a single line if you are already familiar with them).\n",
    "    track_list = df[(df['day'] == day) & (df['city'] == city)]\n",
    "\n",
    "    # The track_list_count variable stores the number of values in the 'user_id' column,\n",
    "    # calculated by the count() method for the track_list table.\n",
    "    track_list_count = track_list['user_id'].count()\n",
    "\n",
    "    # The function returns a number - the value of track_list_count.\n",
    "    return track_list_count\n",
    "\n",
    "# Declaration of the genre_weekday() function with parameters df, day, time1, time2,\n",
    "# which returns information about the most popular genres on the specified day in\n",
    "# the given time:\n",
    "# 1) the genre_df variable stores the rows of the passed dataframe df for which\n",
    "#    at the same time:\n",
    "#    - the value in the day column equals the value of the day argument\n",
    "#    - the value in the time column is greater than the value of the time1 argument\n",
    "#    - the value in the time column is less than the value of the time2 argument\n",
    "#    Use sequential filtering using boolean indexing.\n",
    "# 2) group the genre_df dataframe by the genre column, take one of its\n",
    "#    columns and count the number of records for each\n",
    "#    genres present, write the resulting Series to a variable\n",
    "#    genre_df_grouped\n",
    "# 3) sort genre_df_grouped by descending frequency and save\n",
    "#    to variable genre_df_sorted\n",
    "# 4) return a Series from the first 10 values of genre_df_sorted, these will be the top 10\n",
    "#    popular genres (on the specified day, at the specified time)\n",
    "def genre_weekday(df, day, time1, time2):\n",
    "    # sequential filtering\n",
    "    # leave only those rows of df in genre_df for which the day is equal to day\n",
    "    genre_df = df[df['day'] == day] \n",
    "    # leave only those rows of genre_df in genre_df for which the time is less than time2\n",
    "    genre_df = genre_df[genre_df['time'] < time2] \n",
    "    # leave only those rows of genre_df in genre_df for which the time is greater than time1\n",
    "    genre_df = genre_df[genre_df['time'] > time1] \n",
    "    # group the filtered dataframe by the column with genre names, take the genre column and count the number of rows for each genre using the count() method\n",
    "    genre_df_grouped = genre_df.groupby('genre')['genre'].count()\n",
    "    # sort the result in descending order (so that the most popular genres are at the beginning of the Series)\n",
    "    genre_df_sorted = genre_df_grouped.sort_values(ascending=False) \n",
    "    # return a Series with the 10 most popular genres in the specified time interval of a given day\n",
    "    return genre_df_sorted[:10]"
   ]
  },
  {
   "cell_type": "markdown",
   "metadata": {
    "deletable": false,
    "editable": true,
    "id": "Ml1hmfXC_Zcs",
    "slideshow": {
     "slide_type": ""
    },
    "tags": []
   },
   "source": [
    "## EDA"
   ]
  },
  {
   "cell_type": "code",
   "execution_count": 29,
   "metadata": {
    "deletable": false,
    "editable": true,
    "id": "fFVu7vqh_Zct",
    "slideshow": {
     "slide_type": ""
    },
    "tags": []
   },
   "outputs": [],
   "source": [
    "# Читаем датасет\n",
    "df = pd.read_csv('yandex_music_project.csv')"
   ]
  },
  {
   "cell_type": "code",
   "execution_count": 30,
   "metadata": {
    "deletable": false,
    "editable": true,
    "id": "oWTVX3gW_Zct",
    "scrolled": true,
    "slideshow": {
     "slide_type": ""
    },
    "tags": []
   },
   "outputs": [
    {
     "name": "stdout",
     "output_type": "stream",
     "text": [
      "     userID                        Track            artist   genre  \\\n",
      "0  FFB692EC            Kamigata To Boots  The Mass Missile    rock   \n",
      "1  55204538  Delayed Because of Accident  Andreas Rönnberg    rock   \n",
      "2    20EC38            Funiculì funiculà       Mario Lanza     pop   \n",
      "3  A3DD03C9        Dragons in the Sunset        Fire + Ice    folk   \n",
      "4  E2DC1FAE                  Soul People        Space Echo   dance   \n",
      "5  842029A1                    Преданная         IMPERVTOR  rusrap   \n",
      "6  4CB90AA5                         True      Roman Messer   dance   \n",
      "7  F03E1C1F             Feeling This Way   Polina Griffith   dance   \n",
      "8  8FA1D3BE     И вновь продолжается бой               NaN  ruspop   \n",
      "9  E772D5C0                    Pessimist               NaN   dance   \n",
      "\n",
      "             City        time        Day  \n",
      "0  Saint-Petersburg  20:28:33  Wednesday  \n",
      "1            Moscow  14:07:09     Friday  \n",
      "2  Saint-Petersburg  20:58:07  Wednesday  \n",
      "3  Saint-Petersburg  08:37:09     Monday  \n",
      "4            Moscow  08:34:34     Monday  \n",
      "5  Saint-Petersburg  13:09:41     Friday  \n",
      "6            Moscow  13:00:07  Wednesday  \n",
      "7            Moscow  20:47:49  Wednesday  \n",
      "8            Moscow  09:17:40     Friday  \n",
      "9  Saint-Petersburg  21:20:49  Wednesday  \n"
     ]
    }
   ],
   "source": [
    "# Посмотрим содержимое первых строк\n",
    "print(df.head(10))"
   ]
  },
  {
   "cell_type": "markdown",
   "metadata": {
    "editable": true,
    "slideshow": {
     "slide_type": ""
    },
    "tags": []
   },
   "source": [
    "**Промежуточный вывод**\n",
    "\n",
    "В каждом объекте содержатся данные о прослушанном треке. Часть признаков описывают трек, другие хранят информацию о слушателе(города, дата, время прослушивания)\n",
    "\n",
    "Имеющихся признаков достаточно, для рабты по выдвинутым гипотезам."
   ]
  },
  {
   "cell_type": "code",
   "execution_count": 31,
   "metadata": {
    "deletable": false,
    "editable": true,
    "id": "DSf2kIb-_Zct",
    "slideshow": {
     "slide_type": ""
    },
    "tags": []
   },
   "outputs": [
    {
     "name": "stdout",
     "output_type": "stream",
     "text": [
      "<class 'pandas.core.frame.DataFrame'>\n",
      "RangeIndex: 65079 entries, 0 to 65078\n",
      "Data columns (total 7 columns):\n",
      " #   Column    Non-Null Count  Dtype \n",
      "---  ------    --------------  ----- \n",
      " 0     userID  65079 non-null  object\n",
      " 1   Track     63848 non-null  object\n",
      " 2   artist    57876 non-null  object\n",
      " 3   genre     63881 non-null  object\n",
      " 4     City    65079 non-null  object\n",
      " 5   time      65079 non-null  object\n",
      " 6   Day       65079 non-null  object\n",
      "dtypes: object(7)\n",
      "memory usage: 3.5+ MB\n"
     ]
    }
   ],
   "source": [
    "# Изучим сводную характеристику датасета\n",
    "df.info()"
   ]
  },
  {
   "cell_type": "markdown",
   "metadata": {
    "deletable": false,
    "editable": true,
    "id": "TaQ2Iwbr_Zct",
    "slideshow": {
     "slide_type": ""
    },
    "tags": []
   },
   "source": [
    "**Промежуточный вывод**\n",
    "\n",
    "В датасете всего семь признаков. У всех признаков тип  `object`.\n",
    "* `userID` — идентификатор пользователя;\n",
    "* `Track` — название трека;  \n",
    "* `artist` — имя исполнителя;\n",
    "* `genre` — название жанра;\n",
    "* `City` — город пользователя;\n",
    "* `time` — время начала прослушивания;\n",
    "* `Day` — день недели.\n",
    "\n",
    "Видим что есть пропуски в данных так как количество значений в признаках разные. \n",
    "Так же видим нарушения стилистики в названиях признаков:\n",
    "- Разный регистр букв, все должно быть оформленно прописными буквами.\n",
    "- Наличие пробелов в названиях не допустимо.\n",
    "\n"
   ]
  },
  {
   "cell_type": "markdown",
   "metadata": {
    "deletable": false,
    "id": "dIaKXr29_Zct",
    "slideshow": {
     "slide_type": ""
    },
    "tags": [
     "start_task"
    ]
   },
   "source": [
    "### Стиль заголовков\n",
    "\n",
    "Исправления стиля названий признаков"
   ]
  },
  {
   "cell_type": "code",
   "execution_count": 32,
   "metadata": {
    "deletable": false,
    "editable": true,
    "id": "oKOTdF_Q_Zct",
    "slideshow": {
     "slide_type": ""
    },
    "tags": []
   },
   "outputs": [
    {
     "name": "stdout",
     "output_type": "stream",
     "text": [
      "Index(['  userID', 'Track', 'artist', 'genre', '  City  ', 'time', 'Day'], dtype='object')\n"
     ]
    }
   ],
   "source": [
    "# Еще раз посмотрим на названия признаков\n",
    "print(df.columns)"
   ]
  },
  {
   "cell_type": "markdown",
   "metadata": {
    "deletable": false,
    "id": "zj5534cv_Zct",
    "slideshow": {
     "slide_type": ""
    },
    "tags": [
     "start_task"
    ]
   },
   "source": [
    "Приведем названия в соответствие с PEP-8:\n",
    "* несколько слов в названии записываются в «змеином_регистре»\n",
    "* все символы строчные\n",
    "* отсутствие пробелов."
   ]
  },
  {
   "cell_type": "code",
   "execution_count": 33,
   "metadata": {
    "deletable": false,
    "editable": true,
    "id": "ISlFqs5y_Zct",
    "slideshow": {
     "slide_type": ""
    },
    "tags": []
   },
   "outputs": [],
   "source": [
    "# Переименуем признаки так\n",
    "df = df.rename(columns={'  userID': 'user_id', 'Track': 'track', '  City  ': 'city', 'Day' : 'day' })"
   ]
  },
  {
   "cell_type": "code",
   "execution_count": 34,
   "metadata": {
    "deletable": false,
    "editable": true,
    "id": "d4NOAmTW_Zct",
    "slideshow": {
     "slide_type": ""
    },
    "tags": []
   },
   "outputs": [
    {
     "name": "stdout",
     "output_type": "stream",
     "text": [
      "Index(['user_id', 'track', 'artist', 'genre', 'city', 'time', 'day'], dtype='object')\n"
     ]
    }
   ],
   "source": [
    "# Проверка\n",
    "print(df.columns)"
   ]
  },
  {
   "cell_type": "markdown",
   "metadata": {
    "deletable": false,
    "id": "5ISfbcfY_Zct",
    "slideshow": {
     "slide_type": ""
    },
    "tags": [
     "start_task"
    ]
   },
   "source": [
    "### Пропуски значений"
   ]
  },
  {
   "cell_type": "code",
   "execution_count": 35,
   "metadata": {
    "deletable": false,
    "editable": true,
    "id": "RskX29qr_Zct",
    "slideshow": {
     "slide_type": ""
    },
    "tags": []
   },
   "outputs": [
    {
     "name": "stdout",
     "output_type": "stream",
     "text": [
      "user_id       0\n",
      "track      1231\n",
      "artist     7203\n",
      "genre      1198\n",
      "city          0\n",
      "time          0\n",
      "day           0\n",
      "dtype: int64\n"
     ]
    }
   ],
   "source": [
    "# Посмотрим сколько пропусков в каждом признаке\n",
    "print(df.isna().sum())"
   ]
  },
  {
   "cell_type": "markdown",
   "metadata": {
    "deletable": false,
    "editable": true,
    "id": "qubhgnlO_Zct",
    "slideshow": {
     "slide_type": ""
    },
    "tags": []
   },
   "source": [
    "**Промежуточные выводы**\n",
    "\n",
    "- Пропуски в `track` и `artist` не важны для нашей задачи, поэтому заменим их явными обозначениями.\n",
    "- Пропуски в `genre` могут помешать сравнить музыкальные вкусы в Москве и Санкт-Петербурге. Поэтому заполним и эти пропуски явными обозначениями;\n",
    "  \n",
    "Обязательно необходимо будет провести оценку, насколько наши заполнения повлдияют на расчёты."
   ]
  },
  {
   "cell_type": "code",
   "execution_count": 36,
   "metadata": {
    "deletable": false,
    "editable": true,
    "id": "KplB5qWs_Zct",
    "slideshow": {
     "slide_type": ""
    },
    "tags": []
   },
   "outputs": [],
   "source": [
    "# Заменим пропущенные значения в столбцах track, artist и genre на строку 'unknown'\n",
    "columns_to_replace = ['track', 'artist', 'genre']\n",
    "for column in columns_to_replace:\n",
    "    df[column] = df[column].fillna('unknown')     "
   ]
  },
  {
   "cell_type": "code",
   "execution_count": 37,
   "metadata": {
    "deletable": false,
    "editable": true,
    "id": "Tq4nYRX4_Zct",
    "slideshow": {
     "slide_type": ""
    },
    "tags": []
   },
   "outputs": [
    {
     "name": "stdout",
     "output_type": "stream",
     "text": [
      "user_id    0\n",
      "track      0\n",
      "artist     0\n",
      "genre      0\n",
      "city       0\n",
      "time       0\n",
      "day        0\n",
      "dtype: int64\n"
     ]
    }
   ],
   "source": [
    "# Проверка на отсутствие пропусков\n",
    "print(df.isna().sum()) "
   ]
  },
  {
   "cell_type": "markdown",
   "metadata": {
    "deletable": false,
    "editable": true,
    "id": "BWKRtBJ3_Zct",
    "slideshow": {
     "slide_type": ""
    },
    "tags": [
     "start_task"
    ]
   },
   "source": [
    "### Дубликаты"
   ]
  },
  {
   "cell_type": "markdown",
   "metadata": {
    "editable": true,
    "slideshow": {
     "slide_type": ""
    },
    "tags": []
   },
   "source": [
    "#### Явные дубликаты"
   ]
  },
  {
   "cell_type": "code",
   "execution_count": 38,
   "metadata": {
    "deletable": false,
    "editable": true,
    "id": "36eES_S0_Zct",
    "slideshow": {
     "slide_type": ""
    },
    "tags": []
   },
   "outputs": [
    {
     "name": "stdout",
     "output_type": "stream",
     "text": [
      "3826\n"
     ]
    }
   ],
   "source": [
    "# Посмотрим на количество явных дубликаты\n",
    "print(df.duplicated().sum()) "
   ]
  },
  {
   "cell_type": "markdown",
   "metadata": {
    "editable": true,
    "slideshow": {
     "slide_type": ""
    },
    "tags": []
   },
   "source": [
    "**Промежуточные выводы**\n",
    "\n",
    "3k дубликатов из 65k Объектов это ничтожно малая цифра, удалим."
   ]
  },
  {
   "cell_type": "code",
   "execution_count": 39,
   "metadata": {
    "deletable": false,
    "editable": true,
    "id": "exFHq6tt_Zct",
    "slideshow": {
     "slide_type": ""
    },
    "tags": []
   },
   "outputs": [],
   "source": [
    "# Удалим все явные дубликаты\n",
    "df = df.drop_duplicates()"
   ]
  },
  {
   "cell_type": "code",
   "execution_count": 40,
   "metadata": {
    "deletable": false,
    "editable": true,
    "id": "-8PuNWQ0_Zct",
    "slideshow": {
     "slide_type": ""
    },
    "tags": []
   },
   "outputs": [
    {
     "name": "stdout",
     "output_type": "stream",
     "text": [
      "0\n"
     ]
    }
   ],
   "source": [
    "# Проверка на отсутствие дублей\n",
    "print(df.duplicated().sum()) "
   ]
  },
  {
   "cell_type": "markdown",
   "metadata": {
    "editable": true,
    "slideshow": {
     "slide_type": ""
    },
    "tags": []
   },
   "source": [
    "#### Неявные дубликаты"
   ]
  },
  {
   "cell_type": "markdown",
   "metadata": {
    "deletable": false,
    "editable": false,
    "id": "QlFBsxAr_Zct",
    "slideshow": {
     "slide_type": ""
    },
    "tags": []
   },
   "source": [
    "Теперь избавьтесь от неявных дубликатов в колонке `genre`. Например, название одного и того же жанра может быть записано немного по-разному. Такие ошибки тоже повлияют на результат исследования."
   ]
  },
  {
   "cell_type": "markdown",
   "metadata": {
    "deletable": false,
    "editable": false,
    "id": "eSjWwsOh_Zct",
    "tags": [
     "start_task"
    ]
   },
   "source": [
    "**Задание 15**\n",
    "\n",
    "Выведите на экран список уникальных названий жанров, отсортированный в алфавитном порядке. Для этого:\n",
    "* извлеките нужный столбец датафрейма;\n",
    "* примените к нему метод сортировки;\n",
    "* для отсортированного столбца вызовите метод, который вернёт уникальные значения из столбца."
   ]
  },
  {
   "cell_type": "code",
   "execution_count": 41,
   "metadata": {
    "deletable": false,
    "editable": true,
    "id": "JIUcqzZN_Zct",
    "slideshow": {
     "slide_type": ""
    },
    "tags": []
   },
   "outputs": [
    {
     "name": "stdout",
     "output_type": "stream",
     "text": [
      "['acid', 'acoustic', 'action', 'adult', 'africa', 'afrikaans', 'alternative', 'alternativepunk', 'ambient', 'americana', 'animated', 'anime', 'arabesk', 'arabic', 'arena', 'argentinetango', 'art', 'audiobook', 'author', 'avantgarde', 'axé', 'baile', 'balkan', 'beats', 'bigroom', 'black', 'bluegrass', 'blues', 'bollywood', 'bossa', 'brazilian', 'breakbeat', 'breaks', 'broadway', 'cantautori', 'cantopop', 'canzone', 'caribbean', 'caucasian', 'celtic', 'chamber', 'chanson', 'children', 'chill', 'chinese', 'choral', 'christian', 'christmas', 'classical', 'classicmetal', 'club', 'colombian', 'comedy', 'conjazz', 'contemporary', 'country', 'cuban', 'dance', 'dancehall', 'dancepop', 'dark', 'death', 'deep', 'deutschrock', 'deutschspr', 'dirty', 'disco', 'dnb', 'documentary', 'downbeat', 'downtempo', 'drum', 'dub', 'dubstep', 'eastern', 'easy', 'electronic', 'electropop', 'emo', 'entehno', 'epicmetal', 'estrada', 'ethnic', 'eurofolk', 'european', 'experimental', 'extrememetal', 'fado', 'fairytail', 'film', 'fitness', 'flamenco', 'folk', 'folklore', 'folkmetal', 'folkrock', 'folktronica', 'forró', 'frankreich', 'französisch', 'french', 'funk', 'future', 'gangsta', 'garage', 'german', 'ghazal', 'gitarre', 'glitch', 'gospel', 'gothic', 'grime', 'grunge', 'gypsy', 'handsup', \"hard'n'heavy\", 'hardcore', 'hardstyle', 'hardtechno', 'hip', 'hip-hop', 'hiphop', 'historisch', 'holiday', 'hop', 'horror', 'house', 'hymn', 'idm', 'independent', 'indian', 'indie', 'indipop', 'industrial', 'inspirational', 'instrumental', 'international', 'irish', 'jam', 'japanese', 'jazz', 'jewish', 'jpop', 'jungle', 'k-pop', 'karadeniz', 'karaoke', 'kayokyoku', 'korean', 'laiko', 'latin', 'latino', 'leftfield', 'local', 'lounge', 'loungeelectronic', 'lovers', 'malaysian', 'mandopop', 'marschmusik', 'meditative', 'mediterranean', 'melodic', 'metal', 'metalcore', 'mexican', 'middle', 'minimal', 'miscellaneous', 'modern', 'mood', 'mpb', 'muslim', 'native', 'neoklassik', 'neue', 'new', 'newage', 'newwave', 'nu', 'nujazz', 'numetal', 'oceania', 'old', 'opera', 'orchestral', 'other', 'piano', 'podcasts', 'pop', 'popdance', 'popelectronic', 'popeurodance', 'poprussian', 'post', 'posthardcore', 'postrock', 'power', 'progmetal', 'progressive', 'psychedelic', 'punjabi', 'punk', 'quebecois', 'ragga', 'ram', 'rancheras', 'rap', 'rave', 'reggae', 'reggaeton', 'regional', 'relax', 'religious', 'retro', 'rhythm', 'rnb', 'rnr', 'rock', 'rockabilly', 'rockalternative', 'rockindie', 'rockother', 'romance', 'roots', 'ruspop', 'rusrap', 'rusrock', 'russian', 'salsa', 'samba', 'scenic', 'schlager', 'self', 'sertanejo', 'shanson', 'shoegazing', 'showtunes', 'singer', 'ska', 'skarock', 'slow', 'smooth', 'soft', 'soul', 'soulful', 'sound', 'soundtrack', 'southern', 'specialty', 'speech', 'spiritual', 'sport', 'stonerrock', 'surf', 'swing', 'synthpop', 'synthrock', 'sängerportrait', 'tango', 'tanzorchester', 'taraftar', 'tatar', 'tech', 'techno', 'teen', 'thrash', 'top', 'traditional', 'tradjazz', 'trance', 'tribal', 'trip', 'triphop', 'tropical', 'türk', 'türkçe', 'ukrrock', 'unknown', 'urban', 'uzbek', 'variété', 'vi', 'videogame', 'vocal', 'western', 'world', 'worldbeat', 'ïîï', 'электроника']\n"
     ]
    }
   ],
   "source": [
    "genres = df['genre']\n",
    "genres = genres.sort_values()\n",
    "print(list(genres.unique()))"
   ]
  },
  {
   "cell_type": "markdown",
   "metadata": {
    "deletable": false,
    "editable": true,
    "id": "qej-Qmuo_Zct",
    "slideshow": {
     "slide_type": ""
    },
    "tags": [
     "start_task"
    ]
   },
   "source": [
    "**Промежуточные выводы**\n",
    "\n",
    "Видим следующие неявные дубликаты:\n",
    "* *hip*,\n",
    "* *hop*,\n",
    "* *hip-hop*.\n",
    "\n",
    "Заменим все вместо `hip`, `hop` и `hip-hop` на значение `hiphop`:"
   ]
  },
  {
   "cell_type": "code",
   "execution_count": 42,
   "metadata": {
    "deletable": false,
    "editable": true,
    "id": "ErNDkmns_Zct",
    "slideshow": {
     "slide_type": ""
    },
    "tags": []
   },
   "outputs": [],
   "source": [
    "# список дубликатов\n",
    "duplicate_names = ['hip', 'hop', 'hip-hop']\n",
    "# правильное наименование\n",
    "with_name = 'hiphop'\n",
    "\n",
    "# замена\n",
    "df['genre'] = df['genre'].replace(duplicate_names, with_name)"
   ]
  },
  {
   "cell_type": "code",
   "execution_count": 43,
   "metadata": {
    "deletable": false,
    "editable": true,
    "id": "wvixALnFG15m",
    "slideshow": {
     "slide_type": ""
    },
    "tags": []
   },
   "outputs": [
    {
     "name": "stdout",
     "output_type": "stream",
     "text": [
      "['acid', 'acoustic', 'action', 'adult', 'africa', 'afrikaans', 'alternative', 'alternativepunk', 'ambient', 'americana', 'animated', 'anime', 'arabesk', 'arabic', 'arena', 'argentinetango', 'art', 'audiobook', 'author', 'avantgarde', 'axé', 'baile', 'balkan', 'beats', 'bigroom', 'black', 'bluegrass', 'blues', 'bollywood', 'bossa', 'brazilian', 'breakbeat', 'breaks', 'broadway', 'cantautori', 'cantopop', 'canzone', 'caribbean', 'caucasian', 'celtic', 'chamber', 'chanson', 'children', 'chill', 'chinese', 'choral', 'christian', 'christmas', 'classical', 'classicmetal', 'club', 'colombian', 'comedy', 'conjazz', 'contemporary', 'country', 'cuban', 'dance', 'dancehall', 'dancepop', 'dark', 'death', 'deep', 'deutschrock', 'deutschspr', 'dirty', 'disco', 'dnb', 'documentary', 'downbeat', 'downtempo', 'drum', 'dub', 'dubstep', 'eastern', 'easy', 'electronic', 'electropop', 'emo', 'entehno', 'epicmetal', 'estrada', 'ethnic', 'eurofolk', 'european', 'experimental', 'extrememetal', 'fado', 'fairytail', 'film', 'fitness', 'flamenco', 'folk', 'folklore', 'folkmetal', 'folkrock', 'folktronica', 'forró', 'frankreich', 'französisch', 'french', 'funk', 'future', 'gangsta', 'garage', 'german', 'ghazal', 'gitarre', 'glitch', 'gospel', 'gothic', 'grime', 'grunge', 'gypsy', 'handsup', \"hard'n'heavy\", 'hardcore', 'hardstyle', 'hardtechno', 'hiphop', 'historisch', 'holiday', 'horror', 'house', 'hymn', 'idm', 'independent', 'indian', 'indie', 'indipop', 'industrial', 'inspirational', 'instrumental', 'international', 'irish', 'jam', 'japanese', 'jazz', 'jewish', 'jpop', 'jungle', 'k-pop', 'karadeniz', 'karaoke', 'kayokyoku', 'korean', 'laiko', 'latin', 'latino', 'leftfield', 'local', 'lounge', 'loungeelectronic', 'lovers', 'malaysian', 'mandopop', 'marschmusik', 'meditative', 'mediterranean', 'melodic', 'metal', 'metalcore', 'mexican', 'middle', 'minimal', 'miscellaneous', 'modern', 'mood', 'mpb', 'muslim', 'native', 'neoklassik', 'neue', 'new', 'newage', 'newwave', 'nu', 'nujazz', 'numetal', 'oceania', 'old', 'opera', 'orchestral', 'other', 'piano', 'podcasts', 'pop', 'popdance', 'popelectronic', 'popeurodance', 'poprussian', 'post', 'posthardcore', 'postrock', 'power', 'progmetal', 'progressive', 'psychedelic', 'punjabi', 'punk', 'quebecois', 'ragga', 'ram', 'rancheras', 'rap', 'rave', 'reggae', 'reggaeton', 'regional', 'relax', 'religious', 'retro', 'rhythm', 'rnb', 'rnr', 'rock', 'rockabilly', 'rockalternative', 'rockindie', 'rockother', 'romance', 'roots', 'ruspop', 'rusrap', 'rusrock', 'russian', 'salsa', 'samba', 'scenic', 'schlager', 'self', 'sertanejo', 'shanson', 'shoegazing', 'showtunes', 'singer', 'ska', 'skarock', 'slow', 'smooth', 'soft', 'soul', 'soulful', 'sound', 'soundtrack', 'southern', 'specialty', 'speech', 'spiritual', 'sport', 'stonerrock', 'surf', 'swing', 'synthpop', 'synthrock', 'sängerportrait', 'tango', 'tanzorchester', 'taraftar', 'tatar', 'tech', 'techno', 'teen', 'thrash', 'top', 'traditional', 'tradjazz', 'trance', 'tribal', 'trip', 'triphop', 'tropical', 'türk', 'türkçe', 'ukrrock', 'unknown', 'urban', 'uzbek', 'variété', 'vi', 'videogame', 'vocal', 'western', 'world', 'worldbeat', 'ïîï', 'электроника']\n"
     ]
    }
   ],
   "source": [
    "# Проверка\n",
    "print(list(df['genre'].sort_values().unique()))"
   ]
  },
  {
   "cell_type": "markdown",
   "metadata": {
    "deletable": false,
    "id": "jz6a9-7HQUDd",
    "slideshow": {
     "slide_type": ""
    },
    "tags": []
   },
   "source": [
    "**Выводы**\n",
    "\n",
    "Предобработка обнаружила три проблемы в данных:\n",
    "\n",
    "- нарушения в стиле заголовков,\n",
    "- пропущенные значения,\n",
    "- дубликаты — явные и неявные.\n",
    "\n",
    "Мы исправили заголовки, чтобы упростить работу с таблицей. Устранили явные и неявные дубликаты, без них исследование станет более точным.\n",
    "\n",
    "Пропуски заменили на `'unknown'`."
   ]
  },
  {
   "cell_type": "markdown",
   "metadata": {
    "deletable": false,
    "editable": false,
    "id": "WttZHXH0SqKk",
    "slideshow": {
     "slide_type": ""
    },
    "tags": []
   },
   "source": [
    "## Проверка гипотез"
   ]
  },
  {
   "cell_type": "markdown",
   "metadata": {
    "deletable": false,
    "editable": true,
    "id": "Im936VVi_Zcu",
    "slideshow": {
     "slide_type": ""
    },
    "tags": []
   },
   "source": [
    "### Гипотеза 1. Сравнение поведения пользователей двух столиц"
   ]
  },
  {
   "cell_type": "markdown",
   "metadata": {
    "deletable": false,
    "editable": true,
    "id": "nwt_MuaL_Zcu",
    "slideshow": {
     "slide_type": ""
    },
    "tags": []
   },
   "source": [
    "Первая гипотеза утверждает, что пользователи по-разному слушают музыку в Москве и Санкт-Петербурге. \n",
    "Проверим это предположение по данным о трёх днях недели — понедельнике, среде и пятнице. \n",
    "\n",
    "Для этого:\n",
    "\n",
    "* Разделим пользователей Москвы и Санкт-Петербурга.\n",
    "* Сравним, сколько треков послушала каждая группа пользователей в понедельник, среду и пятницу.\n"
   ]
  },
  {
   "cell_type": "code",
   "execution_count": 44,
   "metadata": {
    "deletable": false,
    "editable": true,
    "id": "0_Qs96oh_Zcu",
    "slideshow": {
     "slide_type": ""
    },
    "tags": []
   },
   "outputs": [
    {
     "name": "stdout",
     "output_type": "stream",
     "text": [
      "city\n",
      "Moscow              42741\n",
      "Saint-Petersburg    18512\n",
      "Name: time, dtype: int64\n"
     ]
    }
   ],
   "source": [
    "# Сгруппируем данные по городу и посчитаем прослушивания в каждой группе, для оценки активности пользователей.\n",
    "print(df.groupby('city')['time'].count())"
   ]
  },
  {
   "cell_type": "markdown",
   "metadata": {
    "deletable": false,
    "editable": true,
    "id": "dzli3w8o_Zcu",
    "slideshow": {
     "slide_type": ""
    },
    "tags": [
     "start_task"
    ]
   },
   "source": [
    "**Промежуточный вывод**\n",
    "\n",
    "В Москве прослушиваний больше, чем в Петербурге. Скорее всего это объясняется тем, что в Москве пользователей в разы больше.\n"
   ]
  },
  {
   "cell_type": "code",
   "execution_count": 45,
   "metadata": {
    "deletable": false,
    "editable": true,
    "id": "uZMKjiJz_Zcu",
    "slideshow": {
     "slide_type": ""
    },
    "tags": []
   },
   "outputs": [
    {
     "name": "stdout",
     "output_type": "stream",
     "text": [
      "day\n",
      "Friday       21840\n",
      "Monday       21354\n",
      "Wednesday    18059\n",
      "Name: time, dtype: int64\n"
     ]
    }
   ],
   "source": [
    "# Cгруппируем данные по дню недели и расчитаем прослушивания в понедельник, среду и пятницу.\n",
    "\n",
    "print(df.groupby('day')['time'].count())"
   ]
  },
  {
   "cell_type": "markdown",
   "metadata": {
    "deletable": false,
    "editable": true,
    "id": "cC2tNrlL_Zcu",
    "slideshow": {
     "slide_type": ""
    },
    "tags": []
   },
   "source": [
    "**Промежуточный вывод**\n",
    "\n",
    "В среднем пользователи в совокупоности обоих городов менее активны по средам. Но картина может измениться, если рассмотреть каждый город в отдельности."
   ]
  },
  {
   "cell_type": "markdown",
   "metadata": {
    "deletable": false,
    "id": "ytf7xFrFJQ2r",
    "slideshow": {
     "slide_type": ""
    },
    "tags": [
     "start_task"
    ]
   },
   "source": [
    "Посмотрим как респределено количество прослушиваний между пользователями различных городов по дням"
   ]
  },
  {
   "cell_type": "code",
   "execution_count": 46,
   "metadata": {
    "deletable": false,
    "editable": true,
    "id": "rJcRATNQ_Zcu",
    "slideshow": {
     "slide_type": ""
    },
    "tags": []
   },
   "outputs": [
    {
     "data": {
      "text/plain": [
       "15740"
      ]
     },
     "execution_count": 46,
     "metadata": {},
     "output_type": "execute_result"
    }
   ],
   "source": [
    "number_tracks('Monday', 'Moscow')"
   ]
  },
  {
   "cell_type": "code",
   "execution_count": 47,
   "metadata": {
    "deletable": false,
    "id": "hq_ncZ5T_Zcu"
   },
   "outputs": [
    {
     "data": {
      "text/plain": [
       "5614"
      ]
     },
     "execution_count": 47,
     "metadata": {},
     "output_type": "execute_result"
    }
   ],
   "source": [
    "number_tracks('Monday', 'Saint-Petersburg')"
   ]
  },
  {
   "cell_type": "code",
   "execution_count": 48,
   "metadata": {
    "deletable": false,
    "id": "_NTy2VPU_Zcu"
   },
   "outputs": [
    {
     "data": {
      "text/plain": [
       "11056"
      ]
     },
     "execution_count": 48,
     "metadata": {},
     "output_type": "execute_result"
    }
   ],
   "source": [
    "number_tracks('Wednesday', 'Moscow')"
   ]
  },
  {
   "cell_type": "code",
   "execution_count": 49,
   "metadata": {
    "deletable": false,
    "id": "j2y3TAwo_Zcu"
   },
   "outputs": [
    {
     "data": {
      "text/plain": [
       "7003"
      ]
     },
     "execution_count": 49,
     "metadata": {},
     "output_type": "execute_result"
    }
   ],
   "source": [
    "number_tracks('Wednesday', 'Saint-Petersburg')"
   ]
  },
  {
   "cell_type": "code",
   "execution_count": 50,
   "metadata": {
    "deletable": false,
    "id": "vYDw5u_K_Zcu"
   },
   "outputs": [
    {
     "data": {
      "text/plain": [
       "15945"
      ]
     },
     "execution_count": 50,
     "metadata": {},
     "output_type": "execute_result"
    }
   ],
   "source": [
    "number_tracks('Friday', 'Moscow')"
   ]
  },
  {
   "cell_type": "code",
   "execution_count": 51,
   "metadata": {
    "deletable": false,
    "editable": true,
    "id": "8_yzFtW3_Zcu",
    "slideshow": {
     "slide_type": ""
    },
    "tags": []
   },
   "outputs": [
    {
     "data": {
      "text/plain": [
       "5895"
      ]
     },
     "execution_count": 51,
     "metadata": {},
     "output_type": "execute_result"
    }
   ],
   "source": [
    "number_tracks('Friday', 'Saint-Petersburg')"
   ]
  },
  {
   "cell_type": "code",
   "execution_count": 52,
   "metadata": {
    "deletable": false,
    "editable": true,
    "id": "APAcLpOr_Zcu",
    "slideshow": {
     "slide_type": ""
    },
    "tags": []
   },
   "outputs": [
    {
     "name": "stdout",
     "output_type": "stream",
     "text": [
      "               city  monday  wednesday  friday\n",
      "0            Moscow   15740      11056   15945\n",
      "1  Saint-Petersburg    5614       7003    5614\n"
     ]
    }
   ],
   "source": [
    "# данные — результаты, которые получили с помощью number_tracks\n",
    "data = [['Moscow',15740,11056,15945],\n",
    "        ['Saint-Petersburg',5614,7003,5614]]\n",
    "# названия колонок\n",
    "columns = ['city','monday','wednesday','friday']\n",
    "# таблица\n",
    "table = pd.DataFrame(data = data, columns = columns)\n",
    "print(table)"
   ]
  },
  {
   "cell_type": "markdown",
   "metadata": {
    "deletable": false,
    "editable": false,
    "id": "-EgPIHYu_Zcu"
   },
   "source": [
    "**Выводы**\n",
    "\n",
    "Данные показывают разницу поведения пользователей:\n",
    "\n",
    "- В Москве пик прослушиваний приходится на понедельник и пятницу, а в среду заметен спад.\n",
    "- В Петербурге, наоборот, больше слушают музыку по средам. Активность в понедельник и пятницу здесь почти в равной мере уступает среде.\n",
    "\n",
    "Значит, данные говорят в пользу первой гипотезы."
   ]
  },
  {
   "cell_type": "markdown",
   "metadata": {
    "deletable": false,
    "editable": true,
    "id": "atZAxtq4_Zcu",
    "slideshow": {
     "slide_type": ""
    },
    "tags": []
   },
   "source": [
    "### Гипотеза 2. Музыка в начале и в конце недели"
   ]
  },
  {
   "cell_type": "markdown",
   "metadata": {
    "deletable": false,
    "editable": false,
    "id": "eXrQqXFH_Zcu",
    "slideshow": {
     "slide_type": ""
    },
    "tags": []
   },
   "source": [
    "Согласно второй гипотезе, утром в понедельник в Москве преобладают одни жанры, а в Петербурге — другие. Так же и вечером пятницы преобладают разные жанры — в зависимости от города."
   ]
  },
  {
   "cell_type": "code",
   "execution_count": 53,
   "metadata": {
    "deletable": false,
    "editable": true,
    "id": "qeaFfM_P_Zcu",
    "slideshow": {
     "slide_type": ""
    },
    "tags": []
   },
   "outputs": [],
   "source": [
    "# получим таблицу moscow_general из тех строк таблицы df,\n",
    "# для которых значение в столбце 'city' равно 'Moscow'\n",
    "moscow_general=df[df['city'] == 'Moscow']"
   ]
  },
  {
   "cell_type": "code",
   "execution_count": 54,
   "metadata": {
    "deletable": false,
    "editable": true,
    "id": "ORaVRKto_Zcu",
    "slideshow": {
     "slide_type": ""
    },
    "tags": []
   },
   "outputs": [],
   "source": [
    "# получим таблицу spb_general из тех строк таблицы df,\n",
    "# для которых значение в столбце 'city' равно 'Saint-Petersburg'\n",
    "spb_general=df[df['city']=='Saint-Petersburg']"
   ]
  },
  {
   "cell_type": "code",
   "execution_count": 55,
   "metadata": {
    "deletable": false,
    "editable": true,
    "id": "yz7itPUQ_Zcu",
    "slideshow": {
     "slide_type": ""
    },
    "tags": []
   },
   "outputs": [
    {
     "data": {
      "text/plain": [
       "genre\n",
       "pop            781\n",
       "dance          549\n",
       "electronic     480\n",
       "rock           474\n",
       "hiphop         286\n",
       "ruspop         186\n",
       "world          181\n",
       "rusrap         175\n",
       "alternative    164\n",
       "unknown        161\n",
       "Name: genre, dtype: int64"
      ]
     },
     "execution_count": 55,
     "metadata": {},
     "output_type": "execute_result"
    }
   ],
   "source": [
    "# Вызовем функцию genre_weekday()для утра понедельника в Москве (вместо df — таблица moscow_general)\n",
    "# объекты, хранящие время, являются строками и сравниваются как строки\n",
    "# пример вызова: genre_weekday(moscow_general, 'Monday', '07:00', '11:00')\n",
    "genre_weekday(moscow_general, 'Monday', '07:00', '11:00')"
   ]
  },
  {
   "cell_type": "code",
   "execution_count": 56,
   "metadata": {
    "deletable": false,
    "id": "kwUcHPdy_Zcu"
   },
   "outputs": [
    {
     "data": {
      "text/plain": [
       "genre\n",
       "pop            218\n",
       "dance          182\n",
       "rock           162\n",
       "electronic     147\n",
       "hiphop          80\n",
       "ruspop          64\n",
       "alternative     58\n",
       "rusrap          55\n",
       "jazz            44\n",
       "classical       40\n",
       "Name: genre, dtype: int64"
      ]
     },
     "execution_count": 56,
     "metadata": {},
     "output_type": "execute_result"
    }
   ],
   "source": [
    "# вызов функции для утра понедельника в Петербурге (вместо df — таблица spb_general)\n",
    "genre_weekday(spb_general, 'Monday', '07:00', '11:00')"
   ]
  },
  {
   "cell_type": "code",
   "execution_count": 57,
   "metadata": {
    "deletable": false,
    "id": "EzXVRE1o_Zcu"
   },
   "outputs": [
    {
     "data": {
      "text/plain": [
       "genre\n",
       "pop            713\n",
       "rock           517\n",
       "dance          495\n",
       "electronic     482\n",
       "hiphop         273\n",
       "world          208\n",
       "ruspop         170\n",
       "alternative    163\n",
       "classical      163\n",
       "rusrap         142\n",
       "Name: genre, dtype: int64"
      ]
     },
     "execution_count": 57,
     "metadata": {},
     "output_type": "execute_result"
    }
   ],
   "source": [
    "genre_weekday(moscow_general, 'Friday', '17:00', '23:00')"
   ]
  },
  {
   "cell_type": "code",
   "execution_count": 58,
   "metadata": {
    "deletable": false,
    "id": "JZaEKu5v_Zcu"
   },
   "outputs": [
    {
     "data": {
      "text/plain": [
       "genre\n",
       "pop            256\n",
       "electronic     216\n",
       "rock           216\n",
       "dance          210\n",
       "hiphop          97\n",
       "alternative     63\n",
       "jazz            61\n",
       "classical       60\n",
       "rusrap          59\n",
       "world           54\n",
       "Name: genre, dtype: int64"
      ]
     },
     "execution_count": 58,
     "metadata": {},
     "output_type": "execute_result"
    }
   ],
   "source": [
    "genre_weekday(spb_general, 'Friday', '17:00', '23:00')"
   ]
  },
  {
   "cell_type": "markdown",
   "metadata": {
    "deletable": false,
    "editable": false,
    "id": "wrCe4MNX_Zcu"
   },
   "source": [
    "**Выводы**\n",
    "\n",
    "Если сравнить топ-10 жанров в понедельник утром, можно сделать такие выводы:\n",
    "\n",
    "1. В Москве и Петербурге слушают похожую музыку. Единственное различие — в московский рейтинг вошёл жанр “world”, а в петербургский — джаз и классика.\n",
    "\n",
    "2. В Москве пропущенных значений оказалось так много, что значение `'unknown'` заняло десятое место среди самых популярных жанров. Значит, пропущенные значения занимают существенную долю в данных и угрожают достоверности исследования.\n",
    "\n",
    "Вечер пятницы не меняет эту картину. Некоторые жанры поднимаются немного выше, другие спускаются, но в целом топ-10 остаётся тем же самым.\n",
    "\n",
    "Таким образом, вторая гипотеза подтвердилась лишь частично:\n",
    "* Пользователи слушают похожую музыку в начале недели и в конце.\n",
    "* Разница между Москвой и Петербургом не слишком выражена. В Москве чаще слушают русскую популярную музыку, в Петербурге — джаз.\n",
    "\n",
    "Однако пропуски в данных ставят под сомнение этот результат. В Москве их так много, что рейтинг топ-10 мог бы выглядеть иначе, если бы не утерянные  данные о жанрах."
   ]
  },
  {
   "cell_type": "markdown",
   "metadata": {
    "deletable": false,
    "editable": true,
    "id": "JolODAqr_Zcu",
    "slideshow": {
     "slide_type": ""
    },
    "tags": []
   },
   "source": [
    "### Гипотеза 3. Жанровые предпочтения в Москве и Петербурге\n",
    "\n",
    "Гипотеза: Петербург — столица рэпа, музыку этого жанра там слушают чаще, чем в Москве.  А Москва — город контрастов, в котором, тем не менее, преобладает поп-музыка."
   ]
  },
  {
   "cell_type": "code",
   "execution_count": 59,
   "metadata": {
    "deletable": false,
    "editable": true,
    "id": "r19lIPke_Zcu",
    "slideshow": {
     "slide_type": ""
    },
    "tags": []
   },
   "outputs": [],
   "source": [
    "# одной строкой: группировка таблицы moscow_general по столбцу 'genre',\n",
    "# подсчёт числа значений 'genre' в этой группировке методом count(),\n",
    "# сортировка получившегося Series в порядке убывания и сохранение в moscow_genres\n",
    "moscow_genres=moscow_general.groupby('genre')['genre'].count().sort_values(ascending=False)\n",
    "\n"
   ]
  },
  {
   "cell_type": "code",
   "execution_count": 60,
   "metadata": {
    "deletable": false,
    "editable": true,
    "id": "WhCSooF8_Zcv",
    "slideshow": {
     "slide_type": ""
    },
    "tags": []
   },
   "outputs": [
    {
     "name": "stdout",
     "output_type": "stream",
     "text": [
      "genre\n",
      "pop            5892\n",
      "dance          4435\n",
      "rock           3965\n",
      "electronic     3786\n",
      "hiphop         2096\n",
      "classical      1616\n",
      "world          1432\n",
      "alternative    1379\n",
      "ruspop         1372\n",
      "rusrap         1161\n",
      "Name: genre, dtype: int64\n"
     ]
    }
   ],
   "source": [
    "# Посмотрим на первые десять строк moscow_genres\n",
    "print(moscow_genres.head(10))"
   ]
  },
  {
   "cell_type": "code",
   "execution_count": 61,
   "metadata": {
    "deletable": false,
    "editable": true,
    "id": "gluLIpE7_Zcv",
    "slideshow": {
     "slide_type": ""
    },
    "tags": []
   },
   "outputs": [],
   "source": [
    "# одной строкой: группировка таблицы spb_general по столбцу 'genre',\n",
    "# подсчёт числа значений 'genre' в этой группировке методом count(),\n",
    "# сортировка получившегося Series в порядке убывания и сохранение в spb_genres\n",
    "spb_genres=spb_general.groupby('genre')['genre'].count().sort_values(ascending=False)\n"
   ]
  },
  {
   "cell_type": "code",
   "execution_count": 62,
   "metadata": {
    "deletable": false,
    "editable": true,
    "id": "uaGJHjVU_Zcv",
    "slideshow": {
     "slide_type": ""
    },
    "tags": []
   },
   "outputs": [
    {
     "name": "stdout",
     "output_type": "stream",
     "text": [
      "genre\n",
      "pop            2431\n",
      "dance          1932\n",
      "rock           1879\n",
      "electronic     1736\n",
      "hiphop          960\n",
      "alternative     649\n",
      "classical       646\n",
      "rusrap          564\n",
      "ruspop          538\n",
      "world           515\n",
      "Name: genre, dtype: int64\n"
     ]
    }
   ],
   "source": [
    "# Посмотрим на первые десять строк # Посмотрим на первые десять строк moscow_genres\n",
    "print(spb_genres.head(10))"
   ]
  },
  {
   "cell_type": "markdown",
   "metadata": {
    "deletable": false,
    "editable": false,
    "id": "RY51YJYu_Zcv"
   },
   "source": [
    "**Выводы**"
   ]
  },
  {
   "cell_type": "markdown",
   "metadata": {
    "deletable": false,
    "editable": false,
    "id": "nVhnJEm__Zcv"
   },
   "source": [
    "Гипотеза частично подтвердилась:\n",
    "* Поп-музыка — самый популярный жанр в Москве, как и предполагала гипотеза. Более того, в топ-10 жанров встречается близкий жанр — русская популярная музыка.\n",
    "* Вопреки ожиданиям, рэп одинаково популярен в Москве и Петербурге.\n"
   ]
  },
  {
   "cell_type": "markdown",
   "metadata": {
    "deletable": false,
    "editable": false,
    "id": "ykKQ0N65_Zcv"
   },
   "source": [
    "## Итоги исследования"
   ]
  },
  {
   "cell_type": "markdown",
   "metadata": {
    "deletable": false,
    "editable": true,
    "id": "tjUwbHb3_Zcv",
    "slideshow": {
     "slide_type": ""
    },
    "tags": []
   },
   "source": [
    "Мы проверили три гипотезы и установили:\n",
    "\n",
    "1. День недели по-разному влияет на активность пользователей в Москве и Петербурге.\n",
    "\n",
    "- Первая гипотеза полностью подтвердилась.\n",
    "\n",
    "2. Музыкальные предпочтения не сильно меняются в течение недели — будь то Москва или Петербург. Небольшие различия заметны в начале недели, по понедельникам:\n",
    "- в Москве слушают музыку жанра “world”,\n",
    "- в Петербурге — джаз и классику.\n",
    "\n",
    "- Таким образом, вторая гипотеза подтвердилась лишь отчасти. Этот результат мог оказаться иным, если бы не пропуски в данных.\n",
    "\n",
    "3. Во вкусах пользователей Москвы и Петербурга больше общего, чем различий. Вопреки ожиданиям, предпочтения жанров в Петербурге напоминают московские.\n",
    "\n",
    "- Третья гипотеза не подтвердилась. Если различия в предпочтениях и существуют, на основной массе пользователей они незаметны."
   ]
  },
  {
   "cell_type": "code",
   "execution_count": null,
   "metadata": {
    "editable": true,
    "slideshow": {
     "slide_type": ""
    },
    "tags": []
   },
   "outputs": [],
   "source": []
  }
 ],
 "metadata": {
  "ExecuteTimeLog": [
   {
    "duration": 451,
    "start_time": "2023-07-08T09:29:30.692Z"
   },
   {
    "duration": 295,
    "start_time": "2023-07-08T09:32:05.531Z"
   },
   {
    "duration": 11,
    "start_time": "2023-07-08T09:32:46.215Z"
   },
   {
    "duration": 32,
    "start_time": "2023-07-08T09:33:24.915Z"
   },
   {
    "duration": 445,
    "start_time": "2023-07-08T09:34:39.294Z"
   },
   {
    "duration": 176,
    "start_time": "2023-07-08T09:34:42.635Z"
   },
   {
    "duration": 10,
    "start_time": "2023-07-08T09:34:45.892Z"
   },
   {
    "duration": 27,
    "start_time": "2023-07-08T09:34:49.692Z"
   },
   {
    "duration": 3,
    "start_time": "2023-07-08T09:36:42.683Z"
   },
   {
    "duration": 4,
    "start_time": "2023-07-08T09:39:22.806Z"
   },
   {
    "duration": 11,
    "start_time": "2023-07-08T09:42:51.886Z"
   },
   {
    "duration": 4,
    "start_time": "2023-07-08T09:43:42.835Z"
   },
   {
    "duration": 415,
    "start_time": "2023-07-08T09:44:52.721Z"
   },
   {
    "duration": 263,
    "start_time": "2023-07-08T09:44:55.827Z"
   },
   {
    "duration": 14,
    "start_time": "2023-07-08T09:45:00.012Z"
   },
   {
    "duration": 33,
    "start_time": "2023-07-08T09:45:07.906Z"
   },
   {
    "duration": 3,
    "start_time": "2023-07-08T09:45:15.035Z"
   },
   {
    "duration": 4,
    "start_time": "2023-07-08T09:45:20.335Z"
   },
   {
    "duration": 40,
    "start_time": "2023-07-08T09:45:25.828Z"
   },
   {
    "duration": 4,
    "start_time": "2023-07-08T09:45:28.423Z"
   },
   {
    "duration": 41,
    "start_time": "2023-07-08T09:46:28.558Z"
   },
   {
    "duration": 61,
    "start_time": "2023-07-08T09:47:06.422Z"
   },
   {
    "duration": 25,
    "start_time": "2023-07-08T10:42:30.638Z"
   },
   {
    "duration": 37,
    "start_time": "2023-07-08T10:43:59.268Z"
   },
   {
    "duration": 83,
    "start_time": "2023-07-08T10:45:46.516Z"
   },
   {
    "duration": 124,
    "start_time": "2023-07-08T10:46:19.641Z"
   },
   {
    "duration": 82,
    "start_time": "2023-07-08T10:46:29.214Z"
   },
   {
    "duration": 11,
    "start_time": "2023-07-08T10:49:46.267Z"
   },
   {
    "duration": 96,
    "start_time": "2023-07-08T10:54:55.352Z"
   },
   {
    "duration": 51,
    "start_time": "2023-07-08T10:55:28.053Z"
   },
   {
    "duration": 46,
    "start_time": "2023-07-08T10:55:58.756Z"
   },
   {
    "duration": 21,
    "start_time": "2023-07-08T11:04:22.780Z"
   },
   {
    "duration": 42,
    "start_time": "2023-07-08T11:04:26.207Z"
   },
   {
    "duration": 59,
    "start_time": "2023-07-08T11:06:03.823Z"
   },
   {
    "duration": 48,
    "start_time": "2023-07-08T11:08:23.329Z"
   },
   {
    "duration": 24,
    "start_time": "2023-07-08T11:11:47.183Z"
   },
   {
    "duration": 7,
    "start_time": "2023-07-08T11:15:33.755Z"
   },
   {
    "duration": 5,
    "start_time": "2023-07-08T11:15:35.986Z"
   },
   {
    "duration": 6,
    "start_time": "2023-07-08T11:16:12.496Z"
   },
   {
    "duration": 18,
    "start_time": "2023-07-08T11:16:38.940Z"
   },
   {
    "duration": 57,
    "start_time": "2023-07-08T11:16:57.278Z"
   },
   {
    "duration": 19,
    "start_time": "2023-07-08T11:17:32.900Z"
   },
   {
    "duration": 18,
    "start_time": "2023-07-08T11:18:42.503Z"
   },
   {
    "duration": 5,
    "start_time": "2023-07-08T11:32:22.324Z"
   },
   {
    "duration": 22,
    "start_time": "2023-07-08T11:32:52.413Z"
   },
   {
    "duration": 28,
    "start_time": "2023-07-08T11:33:24.037Z"
   },
   {
    "duration": 23,
    "start_time": "2023-07-08T11:33:39.089Z"
   },
   {
    "duration": 22,
    "start_time": "2023-07-08T11:33:53.563Z"
   },
   {
    "duration": 27,
    "start_time": "2023-07-08T11:34:05.252Z"
   },
   {
    "duration": 30,
    "start_time": "2023-07-08T11:34:18.883Z"
   },
   {
    "duration": 28,
    "start_time": "2023-07-08T11:34:22.436Z"
   },
   {
    "duration": 348,
    "start_time": "2023-07-08T11:43:11.827Z"
   },
   {
    "duration": 10,
    "start_time": "2023-07-08T11:43:44.042Z"
   },
   {
    "duration": 15,
    "start_time": "2023-07-08T11:46:40.277Z"
   },
   {
    "duration": 15,
    "start_time": "2023-07-08T11:46:54.299Z"
   },
   {
    "duration": 88,
    "start_time": "2023-07-08T12:05:18.497Z"
   },
   {
    "duration": 5,
    "start_time": "2023-07-08T12:07:32.011Z"
   },
   {
    "duration": 7,
    "start_time": "2023-07-08T12:07:40.984Z"
   },
   {
    "duration": 6,
    "start_time": "2023-07-08T12:07:47.507Z"
   },
   {
    "duration": 21,
    "start_time": "2023-07-08T12:09:14.305Z"
   },
   {
    "duration": 12,
    "start_time": "2023-07-08T12:10:32.675Z"
   },
   {
    "duration": 21,
    "start_time": "2023-07-08T12:10:49.595Z"
   },
   {
    "duration": 24,
    "start_time": "2023-07-08T12:11:51.317Z"
   },
   {
    "duration": 30,
    "start_time": "2023-07-08T12:12:12.610Z"
   },
   {
    "duration": 23,
    "start_time": "2023-07-08T12:12:39.799Z"
   },
   {
    "duration": 17,
    "start_time": "2023-07-08T12:16:53.654Z"
   },
   {
    "duration": 5,
    "start_time": "2023-07-08T12:17:09.297Z"
   },
   {
    "duration": 11,
    "start_time": "2023-07-08T12:18:23.441Z"
   },
   {
    "duration": 7,
    "start_time": "2023-07-08T12:18:27.544Z"
   },
   {
    "duration": 4,
    "start_time": "2023-07-08T12:18:29.718Z"
   },
   {
    "duration": 11,
    "start_time": "2023-07-08T12:29:59.539Z"
   },
   {
    "duration": 4,
    "start_time": "2023-07-08T12:30:29.117Z"
   },
   {
    "duration": 18,
    "start_time": "2023-07-08T12:30:35.479Z"
   },
   {
    "duration": 24,
    "start_time": "2023-07-08T12:30:49.945Z"
   },
   {
    "duration": 23,
    "start_time": "2023-07-08T12:30:52.663Z"
   },
   {
    "duration": 21,
    "start_time": "2023-07-08T12:30:55.917Z"
   },
   {
    "duration": 19,
    "start_time": "2023-07-08T12:30:58.233Z"
   },
   {
    "duration": 17,
    "start_time": "2023-07-08T12:31:00.619Z"
   },
   {
    "duration": 4,
    "start_time": "2023-07-08T12:31:54.429Z"
   },
   {
    "duration": 466,
    "start_time": "2023-07-08T12:32:46.478Z"
   },
   {
    "duration": 225,
    "start_time": "2023-07-08T12:32:46.948Z"
   },
   {
    "duration": 13,
    "start_time": "2023-07-08T12:32:47.175Z"
   },
   {
    "duration": 53,
    "start_time": "2023-07-08T12:32:47.191Z"
   },
   {
    "duration": 20,
    "start_time": "2023-07-08T12:32:47.247Z"
   },
   {
    "duration": 17,
    "start_time": "2023-07-08T12:32:47.269Z"
   },
   {
    "duration": 22,
    "start_time": "2023-07-08T12:32:47.289Z"
   },
   {
    "duration": 12,
    "start_time": "2023-07-08T12:32:47.313Z"
   },
   {
    "duration": 47,
    "start_time": "2023-07-08T12:32:47.328Z"
   },
   {
    "duration": 32,
    "start_time": "2023-07-08T12:32:47.383Z"
   },
   {
    "duration": 51,
    "start_time": "2023-07-08T12:32:47.417Z"
   },
   {
    "duration": 101,
    "start_time": "2023-07-08T12:32:47.473Z"
   },
   {
    "duration": 98,
    "start_time": "2023-07-08T12:32:47.576Z"
   },
   {
    "duration": 92,
    "start_time": "2023-07-08T12:32:47.678Z"
   },
   {
    "duration": 52,
    "start_time": "2023-07-08T12:32:47.777Z"
   },
   {
    "duration": 16,
    "start_time": "2023-07-08T12:32:47.832Z"
   },
   {
    "duration": 55,
    "start_time": "2023-07-08T12:32:47.860Z"
   },
   {
    "duration": 14,
    "start_time": "2023-07-08T12:32:47.917Z"
   },
   {
    "duration": 40,
    "start_time": "2023-07-08T12:32:47.932Z"
   },
   {
    "duration": 10,
    "start_time": "2023-07-08T12:32:47.979Z"
   },
   {
    "duration": 34,
    "start_time": "2023-07-08T12:32:47.992Z"
   },
   {
    "duration": 24,
    "start_time": "2023-07-08T12:32:48.029Z"
   },
   {
    "duration": 29,
    "start_time": "2023-07-08T12:32:48.059Z"
   },
   {
    "duration": 29,
    "start_time": "2023-07-08T12:32:48.090Z"
   },
   {
    "duration": 23,
    "start_time": "2023-07-08T12:32:48.121Z"
   },
   {
    "duration": 50,
    "start_time": "2023-07-08T12:32:48.146Z"
   },
   {
    "duration": 10,
    "start_time": "2023-07-08T12:32:48.199Z"
   },
   {
    "duration": 21,
    "start_time": "2023-07-08T12:32:48.211Z"
   },
   {
    "duration": 32,
    "start_time": "2023-07-08T12:32:48.234Z"
   },
   {
    "duration": 8,
    "start_time": "2023-07-08T12:32:48.268Z"
   },
   {
    "duration": 33,
    "start_time": "2023-07-08T12:32:48.278Z"
   },
   {
    "duration": 16,
    "start_time": "2023-07-08T12:32:48.313Z"
   },
   {
    "duration": 59,
    "start_time": "2023-07-08T12:32:48.332Z"
   },
   {
    "duration": 20,
    "start_time": "2023-07-08T12:32:48.394Z"
   },
   {
    "duration": 12,
    "start_time": "2023-07-08T12:32:48.417Z"
   },
   {
    "duration": 12,
    "start_time": "2023-07-08T12:32:48.431Z"
   },
   {
    "duration": 33,
    "start_time": "2023-07-08T12:32:48.445Z"
   },
   {
    "duration": 4,
    "start_time": "2023-07-08T12:32:48.482Z"
   },
   {
    "duration": 14,
    "start_time": "2023-07-08T12:33:28.440Z"
   },
   {
    "duration": 13,
    "start_time": "2023-07-08T12:35:33.724Z"
   },
   {
    "duration": 17,
    "start_time": "2023-07-08T12:35:38.011Z"
   },
   {
    "duration": 27,
    "start_time": "2023-07-08T12:39:11.841Z"
   }
  ],
  "colab": {
   "collapsed_sections": [
    "E0vqbgi9ay0H",
    "VUC88oWjTJw2"
   ],
   "provenance": []
  },
  "kernelspec": {
   "display_name": "Python 3 (ipykernel)",
   "language": "python",
   "name": "python3"
  },
  "language_info": {
   "codemirror_mode": {
    "name": "ipython",
    "version": 3
   },
   "file_extension": ".py",
   "mimetype": "text/x-python",
   "name": "python",
   "nbconvert_exporter": "python",
   "pygments_lexer": "ipython3",
   "version": "3.10.14"
  },
  "toc": {
   "base_numbering": 1,
   "nav_menu": {
    "height": "215px",
    "width": "403px"
   },
   "number_sections": true,
   "sideBar": true,
   "skip_h1_title": true,
   "title_cell": "Table of Contents",
   "title_sidebar": "Contents",
   "toc_cell": false,
   "toc_position": {
    "height": "calc(100% - 180px)",
    "left": "10px",
    "top": "150px",
    "width": "285.825px"
   },
   "toc_section_display": true,
   "toc_window_display": false
  }
 },
 "nbformat": 4,
 "nbformat_minor": 4
}
