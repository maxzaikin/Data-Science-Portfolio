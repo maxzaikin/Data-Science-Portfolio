{
 "cells": [
  {
   "cell_type": "markdown",
   "id": "4f11de00",
   "metadata": {
    "deletable": true,
    "editable": false,
    "id": "4f11de00",
    "slideshow": {
     "slide_type": ""
    },
    "tags": []
   },
   "source": [
    "# Bank Loan Default Risk Study"
   ]
  },
  {
   "cell_type": "code",
   "execution_count": 10,
   "id": "fab207d0",
   "metadata": {
    "deletable": true,
    "editable": true,
    "id": "fab207d0",
    "slideshow": {
     "slide_type": ""
    },
    "tags": []
   },
   "outputs": [],
   "source": [
    "# импортируем библиотеку pandas\n",
    "import pandas as pd"
   ]
  },
  {
   "cell_type": "code",
   "execution_count": 11,
   "id": "6c82b607",
   "metadata": {
    "deletable": true,
    "editable": true,
    "id": "6c82b607",
    "slideshow": {
     "slide_type": ""
    },
    "tags": []
   },
   "outputs": [],
   "source": [
    "# прочитаем csv-файл\n",
    "data = pd.read_csv('../datasets/bank_loaners.csv')"
   ]
  },
  {
   "cell_type": "code",
   "execution_count": 12,
   "id": "4ff33b36",
   "metadata": {
    "deletable": true,
    "editable": true,
    "id": "4ff33b36",
    "slideshow": {
     "slide_type": ""
    },
    "tags": []
   },
   "outputs": [
    {
     "data": {
      "text/html": [
       "<div>\n",
       "<style scoped>\n",
       "    .dataframe tbody tr th:only-of-type {\n",
       "        vertical-align: middle;\n",
       "    }\n",
       "\n",
       "    .dataframe tbody tr th {\n",
       "        vertical-align: top;\n",
       "    }\n",
       "\n",
       "    .dataframe thead th {\n",
       "        text-align: right;\n",
       "    }\n",
       "</style>\n",
       "<table border=\"1\" class=\"dataframe\">\n",
       "  <thead>\n",
       "    <tr style=\"text-align: right;\">\n",
       "      <th></th>\n",
       "      <th>Unnamed: 0</th>\n",
       "      <th>children</th>\n",
       "      <th>days_employed</th>\n",
       "      <th>dob_years</th>\n",
       "      <th>education</th>\n",
       "      <th>education_id</th>\n",
       "      <th>family_status</th>\n",
       "      <th>family_status_id</th>\n",
       "      <th>gender</th>\n",
       "      <th>income_type</th>\n",
       "      <th>debt</th>\n",
       "      <th>total_income</th>\n",
       "      <th>purpose</th>\n",
       "    </tr>\n",
       "  </thead>\n",
       "  <tbody>\n",
       "    <tr>\n",
       "      <th>0</th>\n",
       "      <td>0</td>\n",
       "      <td>1</td>\n",
       "      <td>-8437.673028</td>\n",
       "      <td>42</td>\n",
       "      <td>высшее</td>\n",
       "      <td>0</td>\n",
       "      <td>женат / замужем</td>\n",
       "      <td>0</td>\n",
       "      <td>F</td>\n",
       "      <td>сотрудник</td>\n",
       "      <td>0</td>\n",
       "      <td>253875.639453</td>\n",
       "      <td>покупка жилья</td>\n",
       "    </tr>\n",
       "    <tr>\n",
       "      <th>1</th>\n",
       "      <td>1</td>\n",
       "      <td>1</td>\n",
       "      <td>-4024.803754</td>\n",
       "      <td>36</td>\n",
       "      <td>среднее</td>\n",
       "      <td>1</td>\n",
       "      <td>женат / замужем</td>\n",
       "      <td>0</td>\n",
       "      <td>F</td>\n",
       "      <td>сотрудник</td>\n",
       "      <td>0</td>\n",
       "      <td>112080.014102</td>\n",
       "      <td>приобретение автомобиля</td>\n",
       "    </tr>\n",
       "    <tr>\n",
       "      <th>2</th>\n",
       "      <td>2</td>\n",
       "      <td>0</td>\n",
       "      <td>-5623.422610</td>\n",
       "      <td>33</td>\n",
       "      <td>Среднее</td>\n",
       "      <td>1</td>\n",
       "      <td>женат / замужем</td>\n",
       "      <td>0</td>\n",
       "      <td>M</td>\n",
       "      <td>сотрудник</td>\n",
       "      <td>0</td>\n",
       "      <td>145885.952297</td>\n",
       "      <td>покупка жилья</td>\n",
       "    </tr>\n",
       "    <tr>\n",
       "      <th>3</th>\n",
       "      <td>3</td>\n",
       "      <td>3</td>\n",
       "      <td>-4124.747207</td>\n",
       "      <td>32</td>\n",
       "      <td>среднее</td>\n",
       "      <td>1</td>\n",
       "      <td>женат / замужем</td>\n",
       "      <td>0</td>\n",
       "      <td>M</td>\n",
       "      <td>сотрудник</td>\n",
       "      <td>0</td>\n",
       "      <td>267628.550329</td>\n",
       "      <td>дополнительное образование</td>\n",
       "    </tr>\n",
       "    <tr>\n",
       "      <th>4</th>\n",
       "      <td>4</td>\n",
       "      <td>0</td>\n",
       "      <td>340266.072047</td>\n",
       "      <td>53</td>\n",
       "      <td>среднее</td>\n",
       "      <td>1</td>\n",
       "      <td>гражданский брак</td>\n",
       "      <td>1</td>\n",
       "      <td>F</td>\n",
       "      <td>пенсионер</td>\n",
       "      <td>0</td>\n",
       "      <td>158616.077870</td>\n",
       "      <td>сыграть свадьбу</td>\n",
       "    </tr>\n",
       "    <tr>\n",
       "      <th>5</th>\n",
       "      <td>5</td>\n",
       "      <td>0</td>\n",
       "      <td>-926.185831</td>\n",
       "      <td>27</td>\n",
       "      <td>высшее</td>\n",
       "      <td>0</td>\n",
       "      <td>гражданский брак</td>\n",
       "      <td>1</td>\n",
       "      <td>M</td>\n",
       "      <td>компаньон</td>\n",
       "      <td>0</td>\n",
       "      <td>255763.565419</td>\n",
       "      <td>покупка жилья</td>\n",
       "    </tr>\n",
       "    <tr>\n",
       "      <th>6</th>\n",
       "      <td>6</td>\n",
       "      <td>0</td>\n",
       "      <td>-2879.202052</td>\n",
       "      <td>43</td>\n",
       "      <td>высшее</td>\n",
       "      <td>0</td>\n",
       "      <td>женат / замужем</td>\n",
       "      <td>0</td>\n",
       "      <td>F</td>\n",
       "      <td>компаньон</td>\n",
       "      <td>0</td>\n",
       "      <td>240525.971920</td>\n",
       "      <td>операции с жильем</td>\n",
       "    </tr>\n",
       "    <tr>\n",
       "      <th>7</th>\n",
       "      <td>7</td>\n",
       "      <td>0</td>\n",
       "      <td>-152.779569</td>\n",
       "      <td>50</td>\n",
       "      <td>СРЕДНЕЕ</td>\n",
       "      <td>1</td>\n",
       "      <td>женат / замужем</td>\n",
       "      <td>0</td>\n",
       "      <td>M</td>\n",
       "      <td>сотрудник</td>\n",
       "      <td>0</td>\n",
       "      <td>135823.934197</td>\n",
       "      <td>образование</td>\n",
       "    </tr>\n",
       "    <tr>\n",
       "      <th>8</th>\n",
       "      <td>8</td>\n",
       "      <td>2</td>\n",
       "      <td>-6929.865299</td>\n",
       "      <td>35</td>\n",
       "      <td>ВЫСШЕЕ</td>\n",
       "      <td>0</td>\n",
       "      <td>гражданский брак</td>\n",
       "      <td>1</td>\n",
       "      <td>F</td>\n",
       "      <td>сотрудник</td>\n",
       "      <td>0</td>\n",
       "      <td>95856.832424</td>\n",
       "      <td>на проведение свадьбы</td>\n",
       "    </tr>\n",
       "    <tr>\n",
       "      <th>9</th>\n",
       "      <td>9</td>\n",
       "      <td>0</td>\n",
       "      <td>-2188.756445</td>\n",
       "      <td>41</td>\n",
       "      <td>среднее</td>\n",
       "      <td>1</td>\n",
       "      <td>женат / замужем</td>\n",
       "      <td>0</td>\n",
       "      <td>M</td>\n",
       "      <td>сотрудник</td>\n",
       "      <td>0</td>\n",
       "      <td>144425.938277</td>\n",
       "      <td>покупка жилья для семьи</td>\n",
       "    </tr>\n",
       "    <tr>\n",
       "      <th>10</th>\n",
       "      <td>10</td>\n",
       "      <td>2</td>\n",
       "      <td>-4171.483647</td>\n",
       "      <td>36</td>\n",
       "      <td>высшее</td>\n",
       "      <td>0</td>\n",
       "      <td>женат / замужем</td>\n",
       "      <td>0</td>\n",
       "      <td>M</td>\n",
       "      <td>компаньон</td>\n",
       "      <td>0</td>\n",
       "      <td>113943.491460</td>\n",
       "      <td>покупка недвижимости</td>\n",
       "    </tr>\n",
       "    <tr>\n",
       "      <th>11</th>\n",
       "      <td>11</td>\n",
       "      <td>0</td>\n",
       "      <td>-792.701887</td>\n",
       "      <td>40</td>\n",
       "      <td>среднее</td>\n",
       "      <td>1</td>\n",
       "      <td>женат / замужем</td>\n",
       "      <td>0</td>\n",
       "      <td>F</td>\n",
       "      <td>сотрудник</td>\n",
       "      <td>0</td>\n",
       "      <td>77069.234271</td>\n",
       "      <td>покупка коммерческой недвижимости</td>\n",
       "    </tr>\n",
       "    <tr>\n",
       "      <th>12</th>\n",
       "      <td>12</td>\n",
       "      <td>0</td>\n",
       "      <td>NaN</td>\n",
       "      <td>65</td>\n",
       "      <td>среднее</td>\n",
       "      <td>1</td>\n",
       "      <td>гражданский брак</td>\n",
       "      <td>1</td>\n",
       "      <td>M</td>\n",
       "      <td>пенсионер</td>\n",
       "      <td>0</td>\n",
       "      <td>NaN</td>\n",
       "      <td>сыграть свадьбу</td>\n",
       "    </tr>\n",
       "    <tr>\n",
       "      <th>13</th>\n",
       "      <td>13</td>\n",
       "      <td>0</td>\n",
       "      <td>-1846.641941</td>\n",
       "      <td>54</td>\n",
       "      <td>неоконченное высшее</td>\n",
       "      <td>2</td>\n",
       "      <td>женат / замужем</td>\n",
       "      <td>0</td>\n",
       "      <td>F</td>\n",
       "      <td>сотрудник</td>\n",
       "      <td>0</td>\n",
       "      <td>130458.228857</td>\n",
       "      <td>приобретение автомобиля</td>\n",
       "    </tr>\n",
       "    <tr>\n",
       "      <th>14</th>\n",
       "      <td>14</td>\n",
       "      <td>0</td>\n",
       "      <td>-1844.956182</td>\n",
       "      <td>56</td>\n",
       "      <td>высшее</td>\n",
       "      <td>0</td>\n",
       "      <td>гражданский брак</td>\n",
       "      <td>1</td>\n",
       "      <td>F</td>\n",
       "      <td>компаньон</td>\n",
       "      <td>1</td>\n",
       "      <td>165127.911772</td>\n",
       "      <td>покупка жилой недвижимости</td>\n",
       "    </tr>\n",
       "    <tr>\n",
       "      <th>15</th>\n",
       "      <td>15</td>\n",
       "      <td>1</td>\n",
       "      <td>-972.364419</td>\n",
       "      <td>26</td>\n",
       "      <td>среднее</td>\n",
       "      <td>1</td>\n",
       "      <td>женат / замужем</td>\n",
       "      <td>0</td>\n",
       "      <td>F</td>\n",
       "      <td>сотрудник</td>\n",
       "      <td>0</td>\n",
       "      <td>116820.904450</td>\n",
       "      <td>строительство собственной недвижимости</td>\n",
       "    </tr>\n",
       "    <tr>\n",
       "      <th>16</th>\n",
       "      <td>16</td>\n",
       "      <td>0</td>\n",
       "      <td>-1719.934226</td>\n",
       "      <td>35</td>\n",
       "      <td>среднее</td>\n",
       "      <td>1</td>\n",
       "      <td>женат / замужем</td>\n",
       "      <td>0</td>\n",
       "      <td>F</td>\n",
       "      <td>сотрудник</td>\n",
       "      <td>0</td>\n",
       "      <td>289202.704229</td>\n",
       "      <td>недвижимость</td>\n",
       "    </tr>\n",
       "    <tr>\n",
       "      <th>17</th>\n",
       "      <td>17</td>\n",
       "      <td>0</td>\n",
       "      <td>-2369.999720</td>\n",
       "      <td>33</td>\n",
       "      <td>высшее</td>\n",
       "      <td>0</td>\n",
       "      <td>гражданский брак</td>\n",
       "      <td>1</td>\n",
       "      <td>M</td>\n",
       "      <td>сотрудник</td>\n",
       "      <td>0</td>\n",
       "      <td>90410.586745</td>\n",
       "      <td>строительство недвижимости</td>\n",
       "    </tr>\n",
       "    <tr>\n",
       "      <th>18</th>\n",
       "      <td>18</td>\n",
       "      <td>0</td>\n",
       "      <td>400281.136913</td>\n",
       "      <td>53</td>\n",
       "      <td>среднее</td>\n",
       "      <td>1</td>\n",
       "      <td>вдовец / вдова</td>\n",
       "      <td>2</td>\n",
       "      <td>F</td>\n",
       "      <td>пенсионер</td>\n",
       "      <td>0</td>\n",
       "      <td>56823.777243</td>\n",
       "      <td>на покупку подержанного автомобиля</td>\n",
       "    </tr>\n",
       "    <tr>\n",
       "      <th>19</th>\n",
       "      <td>19</td>\n",
       "      <td>0</td>\n",
       "      <td>-10038.818549</td>\n",
       "      <td>48</td>\n",
       "      <td>СРЕДНЕЕ</td>\n",
       "      <td>1</td>\n",
       "      <td>в разводе</td>\n",
       "      <td>3</td>\n",
       "      <td>F</td>\n",
       "      <td>сотрудник</td>\n",
       "      <td>0</td>\n",
       "      <td>242831.107982</td>\n",
       "      <td>на покупку своего автомобиля</td>\n",
       "    </tr>\n",
       "  </tbody>\n",
       "</table>\n",
       "</div>"
      ],
      "text/plain": [
       "    Unnamed: 0  children  days_employed  dob_years            education  \\\n",
       "0            0         1   -8437.673028         42               высшее   \n",
       "1            1         1   -4024.803754         36              среднее   \n",
       "2            2         0   -5623.422610         33              Среднее   \n",
       "3            3         3   -4124.747207         32              среднее   \n",
       "4            4         0  340266.072047         53              среднее   \n",
       "5            5         0    -926.185831         27               высшее   \n",
       "6            6         0   -2879.202052         43               высшее   \n",
       "7            7         0    -152.779569         50              СРЕДНЕЕ   \n",
       "8            8         2   -6929.865299         35               ВЫСШЕЕ   \n",
       "9            9         0   -2188.756445         41              среднее   \n",
       "10          10         2   -4171.483647         36               высшее   \n",
       "11          11         0    -792.701887         40              среднее   \n",
       "12          12         0            NaN         65              среднее   \n",
       "13          13         0   -1846.641941         54  неоконченное высшее   \n",
       "14          14         0   -1844.956182         56               высшее   \n",
       "15          15         1    -972.364419         26              среднее   \n",
       "16          16         0   -1719.934226         35              среднее   \n",
       "17          17         0   -2369.999720         33               высшее   \n",
       "18          18         0  400281.136913         53              среднее   \n",
       "19          19         0  -10038.818549         48              СРЕДНЕЕ   \n",
       "\n",
       "    education_id     family_status  family_status_id gender income_type  debt  \\\n",
       "0              0   женат / замужем                 0      F   сотрудник     0   \n",
       "1              1   женат / замужем                 0      F   сотрудник     0   \n",
       "2              1   женат / замужем                 0      M   сотрудник     0   \n",
       "3              1   женат / замужем                 0      M   сотрудник     0   \n",
       "4              1  гражданский брак                 1      F   пенсионер     0   \n",
       "5              0  гражданский брак                 1      M   компаньон     0   \n",
       "6              0   женат / замужем                 0      F   компаньон     0   \n",
       "7              1   женат / замужем                 0      M   сотрудник     0   \n",
       "8              0  гражданский брак                 1      F   сотрудник     0   \n",
       "9              1   женат / замужем                 0      M   сотрудник     0   \n",
       "10             0   женат / замужем                 0      M   компаньон     0   \n",
       "11             1   женат / замужем                 0      F   сотрудник     0   \n",
       "12             1  гражданский брак                 1      M   пенсионер     0   \n",
       "13             2   женат / замужем                 0      F   сотрудник     0   \n",
       "14             0  гражданский брак                 1      F   компаньон     1   \n",
       "15             1   женат / замужем                 0      F   сотрудник     0   \n",
       "16             1   женат / замужем                 0      F   сотрудник     0   \n",
       "17             0  гражданский брак                 1      M   сотрудник     0   \n",
       "18             1    вдовец / вдова                 2      F   пенсионер     0   \n",
       "19             1         в разводе                 3      F   сотрудник     0   \n",
       "\n",
       "     total_income                                 purpose  \n",
       "0   253875.639453                           покупка жилья  \n",
       "1   112080.014102                 приобретение автомобиля  \n",
       "2   145885.952297                           покупка жилья  \n",
       "3   267628.550329              дополнительное образование  \n",
       "4   158616.077870                         сыграть свадьбу  \n",
       "5   255763.565419                           покупка жилья  \n",
       "6   240525.971920                       операции с жильем  \n",
       "7   135823.934197                             образование  \n",
       "8    95856.832424                   на проведение свадьбы  \n",
       "9   144425.938277                 покупка жилья для семьи  \n",
       "10  113943.491460                    покупка недвижимости  \n",
       "11   77069.234271       покупка коммерческой недвижимости  \n",
       "12            NaN                         сыграть свадьбу  \n",
       "13  130458.228857                 приобретение автомобиля  \n",
       "14  165127.911772              покупка жилой недвижимости  \n",
       "15  116820.904450  строительство собственной недвижимости  \n",
       "16  289202.704229                            недвижимость  \n",
       "17   90410.586745              строительство недвижимости  \n",
       "18   56823.777243      на покупку подержанного автомобиля  \n",
       "19  242831.107982            на покупку своего автомобиля  "
      ]
     },
     "execution_count": 12,
     "metadata": {},
     "output_type": "execute_result"
    }
   ],
   "source": [
    "# Выведем первые 20 строчек датафрейма data на экран.\n",
    "data.head(20)"
   ]
  },
  {
   "cell_type": "code",
   "execution_count": 13,
   "id": "e1ed9908",
   "metadata": {
    "deletable": true,
    "editable": true,
    "id": "e1ed9908",
    "slideshow": {
     "slide_type": ""
    },
    "tags": []
   },
   "outputs": [
    {
     "name": "stdout",
     "output_type": "stream",
     "text": [
      "<class 'pandas.core.frame.DataFrame'>\n",
      "RangeIndex: 21525 entries, 0 to 21524\n",
      "Data columns (total 13 columns):\n",
      " #   Column            Non-Null Count  Dtype  \n",
      "---  ------            --------------  -----  \n",
      " 0   Unnamed: 0        21525 non-null  int64  \n",
      " 1   children          21525 non-null  int64  \n",
      " 2   days_employed     19351 non-null  float64\n",
      " 3   dob_years         21525 non-null  int64  \n",
      " 4   education         21525 non-null  object \n",
      " 5   education_id      21525 non-null  int64  \n",
      " 6   family_status     21525 non-null  object \n",
      " 7   family_status_id  21525 non-null  int64  \n",
      " 8   gender            21525 non-null  object \n",
      " 9   income_type       21525 non-null  object \n",
      " 10  debt              21525 non-null  int64  \n",
      " 11  total_income      19351 non-null  float64\n",
      " 12  purpose           21525 non-null  object \n",
      "dtypes: float64(2), int64(6), object(5)\n",
      "memory usage: 2.1+ MB\n"
     ]
    }
   ],
   "source": [
    "# Выведем основную информацию о датафрейме с помощью метода info()\n",
    "data.info()"
   ]
  },
  {
   "cell_type": "markdown",
   "id": "f969a1cd",
   "metadata": {
    "deletable": true,
    "editable": false,
    "id": "f969a1cd",
    "slideshow": {
     "slide_type": ""
    },
    "tags": []
   },
   "source": [
    "## Предобработка данных"
   ]
  },
  {
   "cell_type": "markdown",
   "id": "7283e864",
   "metadata": {
    "deletable": true,
    "editable": false,
    "id": "7283e864",
    "slideshow": {
     "slide_type": ""
    },
    "tags": []
   },
   "source": [
    "### Удаление пропусков"
   ]
  },
  {
   "cell_type": "code",
   "execution_count": 14,
   "id": "b7a096e1",
   "metadata": {
    "deletable": true,
    "editable": true,
    "id": "b7a096e1",
    "slideshow": {
     "slide_type": ""
    },
    "tags": []
   },
   "outputs": [
    {
     "data": {
      "text/plain": [
       "Unnamed: 0             0\n",
       "children               0\n",
       "days_employed       2174\n",
       "dob_years              0\n",
       "education              0\n",
       "education_id           0\n",
       "family_status          0\n",
       "family_status_id       0\n",
       "gender                 0\n",
       "income_type            0\n",
       "debt                   0\n",
       "total_income        2174\n",
       "purpose                0\n",
       "dtype: int64"
      ]
     },
     "execution_count": 14,
     "metadata": {},
     "output_type": "execute_result"
    }
   ],
   "source": [
    "# Выведем количество пропущенных значений для каждого столбца. Используйте комбинацию двух методов.\n",
    "data.isna().sum()"
   ]
  },
  {
   "cell_type": "code",
   "execution_count": 15,
   "id": "e8afc4bc",
   "metadata": {
    "deletable": true,
    "editable": true,
    "id": "e8afc4bc",
    "slideshow": {
     "slide_type": ""
    },
    "tags": []
   },
   "outputs": [],
   "source": [
    "# 1. Выыедем список уникальных значений столбца Income_type для хардкода или для анализа\n",
    "data['income_type'].unique()\n",
    "for income_type in data['income_type'].unique():\n",
    "    data.loc[(data['income_type'] == income_type) & (data['total_income'].isna()), 'total_income'] =  data.loc[(data['income_type'] == income_type), 'total_income'].median()     \n",
    "        "
   ]
  },
  {
   "cell_type": "markdown",
   "id": "ae986d46",
   "metadata": {
    "deletable": true,
    "editable": false,
    "id": "ae986d46",
    "slideshow": {
     "slide_type": ""
    },
    "tags": []
   },
   "source": [
    "### Обработка аномальных значений"
   ]
  },
  {
   "cell_type": "code",
   "execution_count": 16,
   "id": "187779b0",
   "metadata": {
    "deletable": true,
    "editable": true,
    "id": "187779b0",
    "slideshow": {
     "slide_type": ""
    },
    "tags": []
   },
   "outputs": [],
   "source": [
    "# В данных могут встречаться артефакты (аномалии), например отрицательное количество дней трудового стажа \n",
    "# в столбце days_employed. Обработаем значения в этом столбце: \n",
    "# замените все отрицательные значения положительными с помощью метода abs().\n",
    "\n",
    "data['days_employed'] = data['days_employed'].abs()"
   ]
  },
  {
   "cell_type": "code",
   "execution_count": 17,
   "id": "f3f5810c",
   "metadata": {
    "deletable": true,
    "editable": true,
    "id": "f3f5810c",
    "slideshow": {
     "slide_type": ""
    },
    "tags": []
   },
   "outputs": [
    {
     "name": "stdout",
     "output_type": "stream",
     "text": [
      "income_type\n",
      "безработный        366413.652744\n",
      "в декрете            3296.759962\n",
      "госслужащий          2689.368353\n",
      "компаньон            1547.382223\n",
      "пенсионер          365213.306266\n",
      "предприниматель       520.848083\n",
      "сотрудник            1574.202821\n",
      "студент               578.751554\n",
      "Name: days_employed, dtype: float64\n"
     ]
    }
   ],
   "source": [
    "# Для каждого типа занятости выведите медианное значение трудового стажа days_employed в днях.\n",
    "\n",
    "    \n",
    "print(data.groupby('income_type')['days_employed'].median())"
   ]
  },
  {
   "cell_type": "markdown",
   "id": "dbc3168c",
   "metadata": {
    "deletable": true,
    "editable": false,
    "id": "dbc3168c",
    "slideshow": {
     "slide_type": ""
    },
    "tags": []
   },
   "source": [
    "У двух типов (безработные и пенсионеры) получатся аномально большие значения. Исправить такие значения сложно, поэтому оставьте их как есть."
   ]
  },
  {
   "cell_type": "code",
   "execution_count": 18,
   "id": "9bd0c232",
   "metadata": {
    "deletable": true,
    "editable": true,
    "id": "9bd0c232",
    "slideshow": {
     "slide_type": ""
    },
    "tags": []
   },
   "outputs": [
    {
     "name": "stdout",
     "output_type": "stream",
     "text": [
      "[ 1  0  3  2 -1  4 20  5]\n"
     ]
    }
   ],
   "source": [
    "# Выведем перечень уникальных значений столбца children.\n",
    "\n",
    "print(data['children'].unique())"
   ]
  },
  {
   "cell_type": "code",
   "execution_count": 19,
   "id": "6d5ba289",
   "metadata": {
    "deletable": true,
    "editable": true,
    "id": "6d5ba289",
    "slideshow": {
     "slide_type": ""
    },
    "tags": []
   },
   "outputs": [],
   "source": [
    "# В столбце children есть два аномальных значения. \n",
    "# Удалим такие строки\n",
    "data = data[(data['children'] >= 0) & (data['children'] < 20 )] \n",
    "\n"
   ]
  },
  {
   "cell_type": "code",
   "execution_count": 20,
   "id": "2c5fa92c",
   "metadata": {
    "deletable": true,
    "editable": true,
    "id": "2c5fa92c",
    "slideshow": {
     "slide_type": ""
    },
    "tags": []
   },
   "outputs": [
    {
     "name": "stdout",
     "output_type": "stream",
     "text": [
      "[1 0 3 2 4 5]\n"
     ]
    }
   ],
   "source": [
    "# Выведем перечень уникальных значений столбца children, чтобы убедиться, что артефакты удалены.\n",
    "print(data['children'].unique())"
   ]
  },
  {
   "cell_type": "code",
   "execution_count": 21,
   "id": "e2aea7ac",
   "metadata": {
    "deletable": true,
    "editable": true,
    "id": "e2aea7ac",
    "slideshow": {
     "slide_type": ""
    },
    "tags": []
   },
   "outputs": [],
   "source": [
    "# Заполним пропуски в столбце days_employed медианными значениями по каждому типу занятости income_type.\n",
    "for income_type in data['income_type'].unique():\n",
    "        data.loc[(data['income_type'] == income_type) & (data['days_employed'].isna()), 'days_employed'] =  data.loc[(data['income_type'] == income_type), 'days_employed'].median()\n",
    "        \n",
    "  "
   ]
  },
  {
   "cell_type": "code",
   "execution_count": 22,
   "id": "79632a21",
   "metadata": {
    "deletable": true,
    "editable": true,
    "id": "79632a21",
    "slideshow": {
     "slide_type": ""
    },
    "tags": []
   },
   "outputs": [
    {
     "data": {
      "text/plain": [
       "Unnamed: 0          0\n",
       "children            0\n",
       "days_employed       0\n",
       "dob_years           0\n",
       "education           0\n",
       "education_id        0\n",
       "family_status       0\n",
       "family_status_id    0\n",
       "gender              0\n",
       "income_type         0\n",
       "debt                0\n",
       "total_income        0\n",
       "purpose             0\n",
       "dtype: int64"
      ]
     },
     "execution_count": 22,
     "metadata": {},
     "output_type": "execute_result"
    }
   ],
   "source": [
    "# Убедимся, что все пропуски заполнены. выведем количество пропущенных значений для каждого столбца \n",
    "data.isna().sum()"
   ]
  },
  {
   "cell_type": "markdown",
   "id": "bd4aeb20",
   "metadata": {
    "deletable": true,
    "editable": false,
    "id": "bd4aeb20",
    "slideshow": {
     "slide_type": ""
    },
    "tags": []
   },
   "source": [
    "### Изменение типов данных"
   ]
  },
  {
   "cell_type": "code",
   "execution_count": 23,
   "id": "73da6ea0",
   "metadata": {
    "deletable": true,
    "editable": true,
    "id": "73da6ea0",
    "slideshow": {
     "slide_type": ""
    },
    "tags": []
   },
   "outputs": [],
   "source": [
    "# Заменим вещественный тип данных в столбце total_income на целочисленный\n",
    "data['total_income'] = data['total_income'].astype('int')"
   ]
  },
  {
   "cell_type": "markdown",
   "id": "d290239e",
   "metadata": {
    "deletable": true,
    "editable": false,
    "id": "d290239e",
    "slideshow": {
     "slide_type": ""
    },
    "tags": []
   },
   "source": [
    "### Обработка дубликатов"
   ]
  },
  {
   "cell_type": "code",
   "execution_count": 24,
   "id": "3f2504b3",
   "metadata": {
    "deletable": true,
    "editable": true,
    "id": "3f2504b3",
    "slideshow": {
     "slide_type": ""
    },
    "tags": []
   },
   "outputs": [],
   "source": [
    "# Обработаем неявные дубликаты в столбце education. \n",
    "#В этом столбце есть одни и те же значения, но записанные по-разному: \n",
    "#с использованием заглавных и строчных букв. \n",
    "\n",
    "data['education'] = data['education'].str.lower()"
   ]
  },
  {
   "cell_type": "code",
   "execution_count": 25,
   "id": "d34a4325",
   "metadata": {
    "deletable": true,
    "editable": true,
    "id": "d34a4325",
    "slideshow": {
     "slide_type": ""
    },
    "tags": []
   },
   "outputs": [
    {
     "data": {
      "text/plain": [
       "21397"
      ]
     },
     "execution_count": 25,
     "metadata": {},
     "output_type": "execute_result"
    }
   ],
   "source": [
    "#  Выведем  количество строк-дубликатов в данных. \n",
    "data['education'].duplicated().sum()"
   ]
  },
  {
   "cell_type": "code",
   "execution_count": 26,
   "id": "6e1a6499",
   "metadata": {
    "deletable": true,
    "editable": true,
    "id": "6e1a6499",
    "slideshow": {
     "slide_type": ""
    },
    "tags": []
   },
   "outputs": [],
   "source": [
    "# удалим дубликаты\n",
    "\n",
    "data = data.drop_duplicates()"
   ]
  },
  {
   "cell_type": "markdown",
   "id": "e5686ccc",
   "metadata": {
    "deletable": true,
    "editable": false,
    "id": "e5686ccc"
   },
   "source": [
    "### Категоризация данных"
   ]
  },
  {
   "cell_type": "markdown",
   "id": "636e9acd",
   "metadata": {
    "deletable": true,
    "id": "636e9acd",
    "slideshow": {
     "slide_type": ""
    },
    "tags": [
     "start_task"
    ]
   },
   "source": [
    "**Добавим столбец `total_income_category` с категориями:**\n",
    "\n",
    "- 0–30000 — `'E'`;\n",
    "- 30001–50000 — `'D'`;\n",
    "- 50001–200000 — `'C'`;\n",
    "- 200001–1000000 — `'B'`;\n",
    "- 1000001 и выше — `'A'`.\n"
   ]
  },
  {
   "cell_type": "code",
   "execution_count": 27,
   "id": "880a77e5",
   "metadata": {
    "deletable": true,
    "editable": true,
    "id": "880a77e5",
    "slideshow": {
     "slide_type": ""
    },
    "tags": []
   },
   "outputs": [],
   "source": [
    "def categorize_income(total_income):\n",
    "\n",
    "# Ф-ия возвращает кредитную категорию исходя из критерия сумарного дохода:\n",
    "#    доход в диапазоне 0–30000 — 'E';\n",
    "#    доход в диапазоне 30001–50000 — 'D';\n",
    "#    доход в диапазоне 50001–200000 — 'C';\n",
    "#    доход в диапазоне 200001–1000000 — 'B';\n",
    "#    доход в диапазоне 1000001 и выше — 'A'.\n",
    "\n",
    "    if (total_income >= 0) & (total_income <= 30000):\n",
    "        return 'E'\n",
    "\n",
    "    if (total_income >= 30001) & (total_income <= 50000):\n",
    "        return 'D'\n",
    "    \n",
    "    if (total_income >= 50001) & (total_income <= 200000):\n",
    "        return 'C'\n",
    "    \n",
    "    if (total_income >= 200001) & (total_income <= 1000000):\n",
    "        return 'B'\n",
    "    \n",
    "    if (total_income >= 1000001):\n",
    "        return 'A'\n"
   ]
  },
  {
   "cell_type": "code",
   "execution_count": 28,
   "id": "6f25f161",
   "metadata": {
    "deletable": true,
    "editable": true,
    "id": "6f25f161",
    "slideshow": {
     "slide_type": ""
    },
    "tags": []
   },
   "outputs": [],
   "source": [
    "# применим функцию методом apply()\n",
    "data['total_income_category'] = data['total_income'].astype('int').apply(categorize_income)"
   ]
  },
  {
   "cell_type": "code",
   "execution_count": 29,
   "id": "e59f2c15",
   "metadata": {
    "deletable": true,
    "editable": true,
    "id": "e59f2c15",
    "slideshow": {
     "slide_type": ""
    },
    "tags": []
   },
   "outputs": [
    {
     "name": "stdout",
     "output_type": "stream",
     "text": [
      "['покупка жилья' 'приобретение автомобиля' 'дополнительное образование'\n",
      " 'сыграть свадьбу' 'операции с жильем' 'образование'\n",
      " 'на проведение свадьбы' 'покупка жилья для семьи' 'покупка недвижимости'\n",
      " 'покупка коммерческой недвижимости' 'покупка жилой недвижимости'\n",
      " 'строительство собственной недвижимости' 'недвижимость'\n",
      " 'строительство недвижимости' 'на покупку подержанного автомобиля'\n",
      " 'на покупку своего автомобиля' 'операции с коммерческой недвижимостью'\n",
      " 'строительство жилой недвижимости' 'жилье'\n",
      " 'операции со своей недвижимостью' 'автомобили' 'заняться образованием'\n",
      " 'сделка с подержанным автомобилем' 'получение образования' 'автомобиль'\n",
      " 'свадьба' 'получение дополнительного образования' 'покупка своего жилья'\n",
      " 'операции с недвижимостью' 'получение высшего образования'\n",
      " 'свой автомобиль' 'сделка с автомобилем' 'профильное образование'\n",
      " 'высшее образование' 'покупка жилья для сдачи' 'на покупку автомобиля'\n",
      " 'ремонт жилью' 'заняться высшим образованием']\n"
     ]
    }
   ],
   "source": [
    "# Выведем на экран перечень уникальных целей взятия кредита из столбца purpose\n",
    "print(data['purpose'].unique())"
   ]
  },
  {
   "cell_type": "markdown",
   "id": "bb33e847",
   "metadata": {
    "deletable": true,
    "id": "bb33e847",
    "slideshow": {
     "slide_type": ""
    },
    "tags": [
     "start_task"
    ]
   },
   "source": [
    "**Создам функцию, которая на основании данных из столбца `purpose` сформирует новый столбец `purpose_category`, в который войдут следующие категории:**\n",
    "\n",
    "- `'операции с автомобилем'`,\n",
    "- `'операции с недвижимостью'`,\n",
    "- `'проведение свадьбы'`,\n",
    "- `'получение образования'`.\n"
   ]
  },
  {
   "cell_type": "code",
   "execution_count": 30,
   "id": "63909b83",
   "metadata": {
    "deletable": true,
    "editable": true,
    "id": "63909b83",
    "slideshow": {
     "slide_type": ""
    },
    "tags": []
   },
   "outputs": [],
   "source": [
    "# создайте функцию categorize_purpose()\n",
    "def categorize_purpose(purpose):\n",
    "    if 'автом' in purpose:\n",
    "        return 'операции с автомобилем'\n",
    "    if ('образо' in purpose) | ('учеб' in purpose ):\n",
    "        return 'получение образования'\n",
    "    if ('свадь' in purpose) | ('брако' in purpose ):\n",
    "        return 'проведение свадьбы'\n",
    "    if ('жиль' in purpose ) | ('едвиж' in purpose ) :\n",
    "        return 'операции с недвижимостью'"
   ]
  },
  {
   "cell_type": "code",
   "execution_count": 31,
   "id": "7cb4a81d",
   "metadata": {
    "deletable": true,
    "editable": true,
    "id": "7cb4a81d",
    "slideshow": {
     "slide_type": ""
    },
    "tags": []
   },
   "outputs": [],
   "source": [
    "# примените функцию методом apply()\n",
    "data['purpose_category'] = data['purpose'].apply(categorize_purpose)"
   ]
  },
  {
   "cell_type": "markdown",
   "id": "f663d270-6e0c-40a0-964d-9608a4fa052d",
   "metadata": {
    "editable": true,
    "slideshow": {
     "slide_type": ""
    },
    "tags": []
   },
   "source": [
    "## Исследование данных"
   ]
  },
  {
   "cell_type": "markdown",
   "id": "921a2a80-b30f-4123-9b35-5838ea618dd6",
   "metadata": {
    "editable": true,
    "slideshow": {
     "slide_type": ""
    },
    "tags": []
   },
   "source": [
    "### Есть ли зависимость между количеством детей и возвратом кредита в срок?"
   ]
  },
  {
   "cell_type": "code",
   "execution_count": 37,
   "id": "2f0b3985-f533-4d10-81f5-8c460655096f",
   "metadata": {
    "editable": true,
    "scrolled": true,
    "slideshow": {
     "slide_type": ""
    },
    "tags": []
   },
   "outputs": [
    {
     "data": {
      "text/html": [
       "<div>\n",
       "<style scoped>\n",
       "    .dataframe tbody tr th:only-of-type {\n",
       "        vertical-align: middle;\n",
       "    }\n",
       "\n",
       "    .dataframe tbody tr th {\n",
       "        vertical-align: top;\n",
       "    }\n",
       "\n",
       "    .dataframe thead th {\n",
       "        text-align: right;\n",
       "    }\n",
       "</style>\n",
       "<table border=\"1\" class=\"dataframe\">\n",
       "  <thead>\n",
       "    <tr style=\"text-align: right;\">\n",
       "      <th></th>\n",
       "      <th>debt_sum</th>\n",
       "      <th>category_count</th>\n",
       "      <th>result_children</th>\n",
       "    </tr>\n",
       "    <tr>\n",
       "      <th>children</th>\n",
       "      <th></th>\n",
       "      <th></th>\n",
       "      <th></th>\n",
       "    </tr>\n",
       "  </thead>\n",
       "  <tbody>\n",
       "    <tr>\n",
       "      <th>4</th>\n",
       "      <td>4</td>\n",
       "      <td>41</td>\n",
       "      <td>0.097561</td>\n",
       "    </tr>\n",
       "    <tr>\n",
       "      <th>2</th>\n",
       "      <td>194</td>\n",
       "      <td>2055</td>\n",
       "      <td>0.094404</td>\n",
       "    </tr>\n",
       "    <tr>\n",
       "      <th>1</th>\n",
       "      <td>444</td>\n",
       "      <td>4818</td>\n",
       "      <td>0.092154</td>\n",
       "    </tr>\n",
       "    <tr>\n",
       "      <th>3</th>\n",
       "      <td>27</td>\n",
       "      <td>330</td>\n",
       "      <td>0.081818</td>\n",
       "    </tr>\n",
       "    <tr>\n",
       "      <th>0</th>\n",
       "      <td>1063</td>\n",
       "      <td>14149</td>\n",
       "      <td>0.075129</td>\n",
       "    </tr>\n",
       "    <tr>\n",
       "      <th>5</th>\n",
       "      <td>0</td>\n",
       "      <td>9</td>\n",
       "      <td>0.000000</td>\n",
       "    </tr>\n",
       "  </tbody>\n",
       "</table>\n",
       "</div>"
      ],
      "text/plain": [
       "          debt_sum  category_count  result_children\n",
       "children                                           \n",
       "4                4              41         0.097561\n",
       "2              194            2055         0.094404\n",
       "1              444            4818         0.092154\n",
       "3               27             330         0.081818\n",
       "0             1063           14149         0.075129\n",
       "5                0               9         0.000000"
      ]
     },
     "execution_count": 37,
     "metadata": {},
     "output_type": "execute_result"
    }
   ],
   "source": [
    "\n",
    "debt_from_children = pd.DataFrame()\n",
    "debt_from_children['debt_sum'] = data.groupby('children')['debt'].sum()\n",
    "debt_from_children['category_count'] = data.groupby('children')['debt'].count()\n",
    "debt_from_children['result_children'] = debt_from_children['debt_sum'] / debt_from_children['category_count'] \n",
    "debt_from_children.sort_values('result_children', ascending = False)\n"
   ]
  },
  {
   "cell_type": "markdown",
   "id": "1eac427f-0fe2-40bf-a1c8-3bbd3d8840d0",
   "metadata": {
    "editable": true,
    "slideshow": {
     "slide_type": ""
    },
    "tags": []
   },
   "source": [
    "**Промежуточный вывод**\n",
    "\n",
    "Если сравнить только самые многочисленные выборки с 0, 1 и 2 детьми, можно сказать, что чем больше у заемщика детей, тем выше риск допустить просрочку"
   ]
  },
  {
   "cell_type": "markdown",
   "id": "6196e093-081b-48a3-a3a3-f18ce49d8caf",
   "metadata": {
    "editable": true,
    "slideshow": {
     "slide_type": ""
    },
    "tags": []
   },
   "source": [
    "### Есть ли зависимость между семейным положением и возвратом кредита в срок?"
   ]
  },
  {
   "cell_type": "code",
   "execution_count": 38,
   "id": "af3a37cf-fde2-409a-86fb-54b3340e3199",
   "metadata": {
    "editable": true,
    "slideshow": {
     "slide_type": ""
    },
    "tags": []
   },
   "outputs": [
    {
     "data": {
      "text/html": [
       "<div>\n",
       "<style scoped>\n",
       "    .dataframe tbody tr th:only-of-type {\n",
       "        vertical-align: middle;\n",
       "    }\n",
       "\n",
       "    .dataframe tbody tr th {\n",
       "        vertical-align: top;\n",
       "    }\n",
       "\n",
       "    .dataframe thead th {\n",
       "        text-align: right;\n",
       "    }\n",
       "</style>\n",
       "<table border=\"1\" class=\"dataframe\">\n",
       "  <thead>\n",
       "    <tr style=\"text-align: right;\">\n",
       "      <th></th>\n",
       "      <th>sum_family_status</th>\n",
       "      <th>count_family_status</th>\n",
       "      <th>result_family_status</th>\n",
       "    </tr>\n",
       "    <tr>\n",
       "      <th>family_status</th>\n",
       "      <th></th>\n",
       "      <th></th>\n",
       "      <th></th>\n",
       "    </tr>\n",
       "  </thead>\n",
       "  <tbody>\n",
       "    <tr>\n",
       "      <th>Не женат / не замужем</th>\n",
       "      <td>273</td>\n",
       "      <td>2799</td>\n",
       "      <td>0.097535</td>\n",
       "    </tr>\n",
       "    <tr>\n",
       "      <th>гражданский брак</th>\n",
       "      <td>385</td>\n",
       "      <td>4160</td>\n",
       "      <td>0.092548</td>\n",
       "    </tr>\n",
       "    <tr>\n",
       "      <th>женат / замужем</th>\n",
       "      <td>927</td>\n",
       "      <td>12302</td>\n",
       "      <td>0.075354</td>\n",
       "    </tr>\n",
       "    <tr>\n",
       "      <th>в разводе</th>\n",
       "      <td>84</td>\n",
       "      <td>1189</td>\n",
       "      <td>0.070648</td>\n",
       "    </tr>\n",
       "    <tr>\n",
       "      <th>вдовец / вдова</th>\n",
       "      <td>63</td>\n",
       "      <td>952</td>\n",
       "      <td>0.066176</td>\n",
       "    </tr>\n",
       "  </tbody>\n",
       "</table>\n",
       "</div>"
      ],
      "text/plain": [
       "                       sum_family_status  count_family_status  \\\n",
       "family_status                                                   \n",
       "Не женат / не замужем                273                 2799   \n",
       "гражданский брак                     385                 4160   \n",
       "женат / замужем                      927                12302   \n",
       "в разводе                             84                 1189   \n",
       "вдовец / вдова                        63                  952   \n",
       "\n",
       "                       result_family_status  \n",
       "family_status                                \n",
       "Не женат / не замужем              0.097535  \n",
       "гражданский брак                   0.092548  \n",
       "женат / замужем                    0.075354  \n",
       "в разводе                          0.070648  \n",
       "вдовец / вдова                     0.066176  "
      ]
     },
     "execution_count": 38,
     "metadata": {},
     "output_type": "execute_result"
    }
   ],
   "source": [
    "debt_from_family_status = pd.DataFrame()\n",
    "debt_from_family_status['sum_family_status'] =data.groupby('family_status')['debt'].sum()\n",
    "debt_from_family_status['count_family_status'] = data.groupby('family_status')['debt'].count()\n",
    "debt_from_family_status['result_family_status'] = debt_from_family_status['sum_family_status'] / debt_from_family_status['count_family_status'] \n",
    "debt_from_family_status.sort_values('result_family_status', ascending = False)\n"
   ]
  },
  {
   "cell_type": "markdown",
   "id": "62531d55-5d1c-448f-b45d-ccc73b475843",
   "metadata": {
    "editable": true,
    "slideshow": {
     "slide_type": ""
    },
    "tags": []
   },
   "source": [
    "**Промежуточный вывод**\n",
    "\n",
    "Люди не в браке и не бывавшие в браке имеют больший процент невозвратов в срок. Но, те кто развелись или овдовели чаще платят в срок, чем люди в браке. "
   ]
  },
  {
   "cell_type": "markdown",
   "id": "1776c0cf-638e-407e-81d3-d71aa6fa784a",
   "metadata": {
    "editable": true,
    "slideshow": {
     "slide_type": ""
    },
    "tags": []
   },
   "source": [
    "### Есть ли зависимость между уровнем дохода и возвратом кредита в срок?"
   ]
  },
  {
   "cell_type": "code",
   "execution_count": 40,
   "id": "0a88df7d-2d65-44b1-aa2c-8236bcf296fd",
   "metadata": {
    "editable": true,
    "scrolled": true,
    "slideshow": {
     "slide_type": ""
    },
    "tags": []
   },
   "outputs": [
    {
     "name": "stdout",
     "output_type": "stream",
     "text": [
      "                       debt_sum  category_count conversion\n",
      "total_income_category                                     \n",
      "A                             2              25     8.00 %\n",
      "B                           354            5014     7.06 %\n",
      "C                          1353           15992     8.46 %\n",
      "D                            21             349     6.02 %\n",
      "E                             2              22     9.09 %\n",
      "-----------------------------\n",
      "A Доход свыше: 1'000'001.00\n",
      "B Доход от 200'001.00 до 1'000'000.00\n",
      "C Доход от: 50'001.00 до 200'000.00\n",
      "D Доход от 30'001.00 до 200'000.00\n",
      "E Доход до 30'000.00\n"
     ]
    }
   ],
   "source": [
    "debt_from_total_income = pd.DataFrame()\n",
    "\n",
    "#debt_from_total_income['cat'] = data.groupby('total_income_category')['debt']\n",
    "debt_from_total_income['debt_sum'] = data.groupby('total_income_category')['debt'].sum()\n",
    "debt_from_total_income['category_count'] = data.groupby('total_income_category')['debt'].count()\n",
    "debt_from_total_income['conversion'] = (debt_from_total_income['debt_sum'] / debt_from_total_income['category_count']) * 100;\n",
    "debt_from_total_income['conversion'] = debt_from_total_income['conversion'].map('{:,.2f} %'.format)\n",
    "debt_from_total_income.sort_values('total_income_category', ascending = True)\n",
    "\n",
    "print(debt_from_total_income) \n",
    "print('-----------------------------')\n",
    "print(\"A Доход свыше: 1'000'001.00\")\n",
    "print(\"B Доход от 200'001.00 до 1'000'000.00\")\n",
    "print(\"C Доход от: 50'001.00 до 200'000.00\")\n",
    "print(\"D Доход от 30'001.00 до 200'000.00\")\n",
    "print(\"E Доход до 30'000.00\")      \n"
   ]
  },
  {
   "cell_type": "markdown",
   "id": "537bc934-c50b-421c-8358-30de8eadbdef",
   "metadata": {
    "editable": true,
    "slideshow": {
     "slide_type": ""
    },
    "tags": []
   },
   "source": [
    "**Промежуточный вывод**\n",
    "\n",
    "Если сравнить только две самые большие категории C (50 - 200) и B (200 - 1 млн), выходит что заемщики с более высоким доходом являются более надежными.\n",
    "\n",
    "Также в качестве рекомендации можно предложить банку изменить градацию дохода, чтобы получить более сбалансированные выборки."
   ]
  },
  {
   "cell_type": "markdown",
   "id": "658c3d5e-fb12-43c6-be65-88b796772af3",
   "metadata": {
    "editable": true,
    "slideshow": {
     "slide_type": ""
    },
    "tags": []
   },
   "source": [
    "### Как разные цели кредита влияют на его возврат в срок?"
   ]
  },
  {
   "cell_type": "code",
   "execution_count": 41,
   "id": "3616ced0-e1a6-4c04-9eac-22c4df60c0a8",
   "metadata": {
    "editable": true,
    "slideshow": {
     "slide_type": ""
    },
    "tags": []
   },
   "outputs": [
    {
     "data": {
      "text/html": [
       "<div>\n",
       "<style scoped>\n",
       "    .dataframe tbody tr th:only-of-type {\n",
       "        vertical-align: middle;\n",
       "    }\n",
       "\n",
       "    .dataframe tbody tr th {\n",
       "        vertical-align: top;\n",
       "    }\n",
       "\n",
       "    .dataframe thead th {\n",
       "        text-align: right;\n",
       "    }\n",
       "</style>\n",
       "<table border=\"1\" class=\"dataframe\">\n",
       "  <thead>\n",
       "    <tr style=\"text-align: right;\">\n",
       "      <th></th>\n",
       "      <th>sum_purpose_category</th>\n",
       "      <th>count_purpose_category</th>\n",
       "      <th>result_purpose_category</th>\n",
       "    </tr>\n",
       "    <tr>\n",
       "      <th>purpose_category</th>\n",
       "      <th></th>\n",
       "      <th></th>\n",
       "      <th></th>\n",
       "    </tr>\n",
       "  </thead>\n",
       "  <tbody>\n",
       "    <tr>\n",
       "      <th>операции с автомобилем</th>\n",
       "      <td>400</td>\n",
       "      <td>4288</td>\n",
       "      <td>0.093284</td>\n",
       "    </tr>\n",
       "    <tr>\n",
       "      <th>получение образования</th>\n",
       "      <td>369</td>\n",
       "      <td>3997</td>\n",
       "      <td>0.092319</td>\n",
       "    </tr>\n",
       "    <tr>\n",
       "      <th>проведение свадьбы</th>\n",
       "      <td>183</td>\n",
       "      <td>2337</td>\n",
       "      <td>0.078306</td>\n",
       "    </tr>\n",
       "    <tr>\n",
       "      <th>операции с недвижимостью</th>\n",
       "      <td>780</td>\n",
       "      <td>10780</td>\n",
       "      <td>0.072356</td>\n",
       "    </tr>\n",
       "  </tbody>\n",
       "</table>\n",
       "</div>"
      ],
      "text/plain": [
       "                          sum_purpose_category  count_purpose_category  \\\n",
       "purpose_category                                                         \n",
       "операции с автомобилем                     400                    4288   \n",
       "получение образования                      369                    3997   \n",
       "проведение свадьбы                         183                    2337   \n",
       "операции с недвижимостью                   780                   10780   \n",
       "\n",
       "                          result_purpose_category  \n",
       "purpose_category                                   \n",
       "операции с автомобилем                   0.093284  \n",
       "получение образования                    0.092319  \n",
       "проведение свадьбы                       0.078306  \n",
       "операции с недвижимостью                 0.072356  "
      ]
     },
     "execution_count": 41,
     "metadata": {},
     "output_type": "execute_result"
    }
   ],
   "source": [
    "debt_from_purpose_category = pd.DataFrame()\n",
    "debt_from_purpose_category['sum_purpose_category'] = data.groupby('purpose_category')['debt'].sum()\n",
    "debt_from_purpose_category['count_purpose_category'] = data.groupby('purpose_category')['debt'].count()\n",
    "debt_from_purpose_category['result_purpose_category'] = debt_from_purpose_category['sum_purpose_category'] / debt_from_purpose_category['count_purpose_category'] \n",
    "debt_from_purpose_category.sort_values('result_purpose_category', ascending = False)\n"
   ]
  },
  {
   "cell_type": "markdown",
   "id": "c4dadccc-7e88-43e9-86c2-82419bf2f9b1",
   "metadata": {
    "editable": true,
    "slideshow": {
     "slide_type": ""
    },
    "tags": []
   },
   "source": [
    "**Промежуточный вывод**\n",
    "\n",
    "Вывод: самые ненадежные заемщики те, кто берут кредиты на образование (доля просрочки 0.092) и покупку автомобиля (0.93); далее по росту надежности следуют заемщики, которые берут кредиты на проведение свадьбы (доля просрочки = 0.079); самые надежные заемщики - те, кто берут кредиты на операции с недвижимостью (доля просрочки = 0.072).\n"
   ]
  },
  {
   "cell_type": "markdown",
   "id": "dbc3881f-f150-4fd6-9133-eff08e441ea3",
   "metadata": {
    "editable": true,
    "slideshow": {
     "slide_type": ""
    },
    "tags": []
   },
   "source": [
    "### Проанализируем возможные причины появления пропусков в исходных данных"
   ]
  },
  {
   "cell_type": "markdown",
   "id": "65ede977-3bb8-48d0-a5e7-09c36848ccc9",
   "metadata": {
    "editable": true,
    "slideshow": {
     "slide_type": ""
    },
    "tags": []
   },
   "source": [
    "Причины могут быть следующими:\n",
    "\n",
    "Ошибка выгрузки, проблеммы при передачи, ошибки форматов, разные локализации систем, человеческий фактор данные никогда не вводились оператором\n"
   ]
  },
  {
   "cell_type": "markdown",
   "id": "005c3608-5b19-42ed-adc2-0e8e7dc0089c",
   "metadata": {
    "editable": true,
    "slideshow": {
     "slide_type": ""
    },
    "tags": []
   },
   "source": [
    "### Попытаемся объяснить почему заполнить пропуски медианным значением — лучшее решение для количественных переменных?"
   ]
  },
  {
   "cell_type": "markdown",
   "id": "58d4b440-d534-4668-be18-b0806e877552",
   "metadata": {
    "editable": true,
    "slideshow": {
     "slide_type": ""
    },
    "tags": []
   },
   "source": [
    "Среднее значение некорректно характеризует данные, когда некоторые значения сильно выделяются среди большинства, поэтому медианной можно вычислить наиболее достовреное значение, особенно в случаях когда есть возможность сужать поиск медианы по определенным категориям\n"
   ]
  },
  {
   "cell_type": "markdown",
   "id": "41dbc9b1-35e6-429c-a3fb-ba705ff486d9",
   "metadata": {
    "editable": true,
    "slideshow": {
     "slide_type": ""
    },
    "tags": []
   },
   "source": [
    "# Заключение"
   ]
  },
  {
   "cell_type": "markdown",
   "id": "4b5df29b-80a0-4dc4-bd1f-e8d81b8b33b8",
   "metadata": {
    "editable": true,
    "slideshow": {
     "slide_type": ""
    },
    "tags": []
   },
   "source": [
    "Целью нашего исследования было изучение платежеспособности различных груп населения в зависимости от видов кредита для того чтобы выявить тренды и дать рекомендации по минимизации рисков кредитным учреждениям. \n",
    "\n",
    "- наиболее привлекательными для кредитных учреждений, являются ипотечные кредиты семьям без детей. Здесь наблюдаются наименьшие риски связанные с выплатам в срок.\n",
    "- семейный статус влияет на вероятность платежей по кредиту в срок - люди, бывшие в официальном браке чаще плятят в срок чем те, кто не бывали в нем, причем разведенные и овдовевшие платят в срок чаще, чем люди в браке.\n",
    "- количество детей влияет на платежеспособность. Чем больше детей, тем выше риск просрочки платежей. Семьи без детей реже просрачивают оплату.\n",
    "\n",
    "**Рекомендации банку** \n",
    "\n",
    "Основываясь на проведенном анализе предоставленных данных наиболее перспективных заемщиков следует отбирать по следующим признакам:\n",
    "\n",
    "- желающие взять ипотечный кредит (не автокредит, не кредит на образование);\n",
    "- семейные люди без детей;\n"
   ]
  }
 ],
 "metadata": {
  "ExecuteTimeLog": [
   {
    "duration": 59,
    "start_time": "2023-07-23T00:35:16.579Z"
   },
   {
    "duration": 368,
    "start_time": "2023-07-23T00:35:35.372Z"
   },
   {
    "duration": 276,
    "start_time": "2023-07-23T00:35:39.124Z"
   },
   {
    "duration": 21,
    "start_time": "2023-07-23T00:35:41.745Z"
   },
   {
    "duration": 17,
    "start_time": "2023-07-23T00:35:48.656Z"
   },
   {
    "duration": 9,
    "start_time": "2023-07-23T00:48:50.050Z"
   },
   {
    "duration": 5,
    "start_time": "2023-07-23T01:14:15.071Z"
   },
   {
    "duration": 42,
    "start_time": "2023-07-23T01:23:21.688Z"
   },
   {
    "duration": 34,
    "start_time": "2023-07-23T01:23:28.745Z"
   },
   {
    "duration": 48,
    "start_time": "2023-07-23T01:23:52.920Z"
   },
   {
    "duration": 11,
    "start_time": "2023-07-23T01:24:12.978Z"
   },
   {
    "duration": 39,
    "start_time": "2023-07-23T01:24:17.068Z"
   },
   {
    "duration": 37,
    "start_time": "2023-07-23T01:24:32.777Z"
   },
   {
    "duration": 40,
    "start_time": "2023-07-23T01:28:13.498Z"
   },
   {
    "duration": 169,
    "start_time": "2023-07-23T01:41:15.805Z"
   },
   {
    "duration": 5,
    "start_time": "2023-07-23T01:41:38.178Z"
   },
   {
    "duration": 40,
    "start_time": "2023-07-23T01:42:14.113Z"
   },
   {
    "duration": 138,
    "start_time": "2023-07-23T01:42:26.416Z"
   },
   {
    "duration": 20,
    "start_time": "2023-07-23T01:42:40.866Z"
   },
   {
    "duration": 161,
    "start_time": "2023-07-23T01:45:11.104Z"
   },
   {
    "duration": 30,
    "start_time": "2023-07-23T01:46:22.822Z"
   },
   {
    "duration": 4,
    "start_time": "2023-07-23T01:49:26.944Z"
   },
   {
    "duration": 22,
    "start_time": "2023-07-23T01:49:30.687Z"
   },
   {
    "duration": 19,
    "start_time": "2023-07-23T01:49:57.678Z"
   },
   {
    "duration": 46,
    "start_time": "2023-07-23T01:53:13.218Z"
   },
   {
    "duration": 9,
    "start_time": "2023-07-23T01:55:13.790Z"
   },
   {
    "duration": 11,
    "start_time": "2023-07-23T02:03:18.531Z"
   },
   {
    "duration": 8,
    "start_time": "2023-07-23T02:04:44.816Z"
   },
   {
    "duration": 11,
    "start_time": "2023-07-23T02:05:15.196Z"
   },
   {
    "duration": 14,
    "start_time": "2023-07-23T02:10:45.467Z"
   },
   {
    "duration": 182,
    "start_time": "2023-07-23T02:23:03.861Z"
   },
   {
    "duration": 42,
    "start_time": "2023-07-23T02:24:10.683Z"
   },
   {
    "duration": 9,
    "start_time": "2023-07-23T02:28:06.988Z"
   },
   {
    "duration": 19,
    "start_time": "2023-07-23T02:28:20.372Z"
   },
   {
    "duration": 11,
    "start_time": "2023-07-23T02:28:28.058Z"
   },
   {
    "duration": 16,
    "start_time": "2023-07-23T02:28:47.445Z"
   },
   {
    "duration": 6,
    "start_time": "2023-07-23T02:29:13.855Z"
   },
   {
    "duration": 4,
    "start_time": "2023-07-23T02:31:02.908Z"
   },
   {
    "duration": 6,
    "start_time": "2023-07-23T02:32:03.772Z"
   },
   {
    "duration": 18,
    "start_time": "2023-07-23T03:03:00.416Z"
   },
   {
    "duration": 11,
    "start_time": "2023-07-23T03:03:06.937Z"
   },
   {
    "duration": 7,
    "start_time": "2023-07-23T03:03:10.998Z"
   },
   {
    "duration": 7,
    "start_time": "2023-07-23T03:05:40.461Z"
   },
   {
    "duration": 6,
    "start_time": "2023-07-23T03:05:48.761Z"
   },
   {
    "duration": 6,
    "start_time": "2023-07-23T03:07:01.105Z"
   },
   {
    "duration": 165,
    "start_time": "2023-07-23T03:58:25.844Z"
   },
   {
    "duration": 4,
    "start_time": "2023-07-23T03:58:55.184Z"
   },
   {
    "duration": 7,
    "start_time": "2023-07-23T04:02:17.817Z"
   },
   {
    "duration": 4,
    "start_time": "2023-07-23T04:02:48.699Z"
   },
   {
    "duration": 4,
    "start_time": "2023-07-23T04:02:54.788Z"
   },
   {
    "duration": 623,
    "start_time": "2023-07-23T04:03:31.051Z"
   },
   {
    "duration": 7,
    "start_time": "2023-07-23T04:04:49.153Z"
   },
   {
    "duration": 13,
    "start_time": "2023-07-23T04:05:17.037Z"
   },
   {
    "duration": 12,
    "start_time": "2023-07-23T04:06:35.246Z"
   },
   {
    "duration": 227,
    "start_time": "2023-07-23T04:09:04.056Z"
   },
   {
    "duration": 10,
    "start_time": "2023-07-23T04:09:14.683Z"
   },
   {
    "duration": 4,
    "start_time": "2023-07-23T04:11:05.808Z"
   },
   {
    "duration": 11,
    "start_time": "2023-07-23T04:11:11.942Z"
   },
   {
    "duration": 5,
    "start_time": "2023-07-23T04:12:42.857Z"
   },
   {
    "duration": 8,
    "start_time": "2023-07-23T04:12:46.356Z"
   },
   {
    "duration": 4,
    "start_time": "2023-07-23T04:17:39.498Z"
   },
   {
    "duration": 6,
    "start_time": "2023-07-23T04:18:43.657Z"
   },
   {
    "duration": 4,
    "start_time": "2023-07-23T04:33:26.377Z"
   }
  ],
  "colab": {
   "provenance": []
  },
  "kernelspec": {
   "display_name": "Python 3 (ipykernel)",
   "language": "python",
   "name": "python3"
  },
  "language_info": {
   "codemirror_mode": {
    "name": "ipython",
    "version": 3
   },
   "file_extension": ".py",
   "mimetype": "text/x-python",
   "name": "python",
   "nbconvert_exporter": "python",
   "pygments_lexer": "ipython3",
   "version": "3.10.14"
  },
  "toc": {
   "base_numbering": 1,
   "nav_menu": {},
   "number_sections": true,
   "sideBar": true,
   "skip_h1_title": true,
   "title_cell": "Table of Contents",
   "title_sidebar": "Contents",
   "toc_cell": false,
   "toc_position": {},
   "toc_section_display": true,
   "toc_window_display": false
  }
 },
 "nbformat": 4,
 "nbformat_minor": 5
}
