{
 "cells": [
  {
   "cell_type": "markdown",
   "id": "0f1531f0-51bb-4cc1-b1c3-ea53081cd9f1",
   "metadata": {},
   "source": [
    "# Practical Linear Algebra for Data Science  \n",
    "From Core Concepts to Applications Using Python\n",
    "(c) Mike X Cohen\n",
    "\n",
    "Code excersises has been resolved with the help   (code examples, exercises, etc.) is available for\n",
    "at https://github.com/mikexcohen/LinAlg4DataScience."
   ]
  },
  {
   "cell_type": "markdown",
   "id": "719ed3a3-a9b2-46d6-93d2-14aafa32d47c",
   "metadata": {},
   "source": [
    "## SETUP"
   ]
  },
  {
   "cell_type": "markdown",
   "id": "b30b5bf2-6af3-44d3-b183-fba306d08f28",
   "metadata": {},
   "source": [
    "### Imports"
   ]
  },
  {
   "cell_type": "code",
   "execution_count": 2,
   "id": "9cb6e282-40c2-4a4b-b31c-6845579f6876",
   "metadata": {},
   "outputs": [],
   "source": [
    "import numpy as np\n",
    "import matplotlib.pyplot as plt\n",
    "import matplotlib_inline.backend_inline"
   ]
  },
  {
   "cell_type": "markdown",
   "id": "93531013-630f-40d5-872f-2697244dec98",
   "metadata": {},
   "source": [
    "### Global Settings"
   ]
  },
  {
   "cell_type": "code",
   "execution_count": 4,
   "id": "58ce4b3a-25af-47a6-8c26-c4c5094fa0fd",
   "metadata": {},
   "outputs": [],
   "source": [
    "matplotlib_inline.backend_inline.set_matplotlib_formats('svg')\n",
    "plt.rcParams.update({'font.size':14})"
   ]
  },
  {
   "cell_type": "markdown",
   "id": "143d5d0b-bf60-4f6f-a542-eb35b8f374ad",
   "metadata": {},
   "source": [
    "### Functions"
   ]
  },
  {
   "cell_type": "code",
   "execution_count": null,
   "id": "0bb58a98-3d39-47c2-a7ee-0ad2ddeb627b",
   "metadata": {},
   "outputs": [],
   "source": []
  },
  {
   "cell_type": "markdown",
   "id": "1ba77ea6-49fd-4869-a087-5fb839b9308e",
   "metadata": {},
   "source": [
    "## PROBLEMS"
   ]
  },
  {
   "cell_type": "markdown",
   "id": "80a0cadb-edc3-4f1e-b94e-6e9b361415b0",
   "metadata": {},
   "source": [
    "### Chapter 2"
   ]
  },
  {
   "cell_type": "markdown",
   "id": "3ee6e489-61c4-4e8c-96e1-cc5d443cbb3d",
   "metadata": {},
   "source": [
    "#### 2-1\n"
   ]
  },
  {
   "cell_type": "code",
   "execution_count": null,
   "id": "330fd535-b146-4b16-b452-f3f0dc16a5d4",
   "metadata": {},
   "outputs": [],
   "source": []
  }
 ],
 "metadata": {
  "kernelspec": {
   "display_name": "Python 3 (ipykernel)",
   "language": "python",
   "name": "python3"
  },
  "language_info": {
   "codemirror_mode": {
    "name": "ipython",
    "version": 3
   },
   "file_extension": ".py",
   "mimetype": "text/x-python",
   "name": "python",
   "nbconvert_exporter": "python",
   "pygments_lexer": "ipython3",
   "version": "3.11.10"
  }
 },
 "nbformat": 4,
 "nbformat_minor": 5
}
