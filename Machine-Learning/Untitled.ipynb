{
 "cells": [
  {
   "cell_type": "code",
   "execution_count": 1,
   "id": "802ef74d-5c61-4377-9b7a-ef6f5813fa2a",
   "metadata": {},
   "outputs": [],
   "source": [
    "import pandas as pd\n",
    "import matplotlib.pyplot as plt\n",
    "import seaborn as sns\n",
    "import math\n",
    "import numpy as np\n",
    "import seaborn as sns\n",
    "from sklearn.model_selection import train_test_split, RandomizedSearchCV\n",
    "from sklearn.preprocessing import StandardScaler\n",
    "from sklearn.pipeline import Pipeline\n",
    "from sklearn.linear_model import ElasticNet\n",
    "from sklearn.ensemble import RandomForestRegressor, GradientBoostingRegressor\n",
    "from sklearn.neighbors import KNeighborsRegressor\n",
    "from sklearn.metrics import mean_absolute_error"
   ]
  },
  {
   "cell_type": "code",
   "execution_count": null,
   "id": "d9f639ee-1cd2-4a8a-9842-c1743aa8c734",
   "metadata": {},
   "outputs": [],
   "source": [
    "# Пайплайн для моделей\n",
    "pipe_final = Pipeline(\n",
    "    [\n",
    "        ('scaler', StandardScaler()),\n",
    "        ('models', None)  # Заполнитель для модели\n",
    "    ]\n",
    ")\n",
    "\n",
    "# Гиперпараметры для моделей\n",
    "param_grid = [\n",
    "    {\n",
    "        'models': [ElasticNet(random_state=RANDOM_STATE)],\n",
    "        'models__alpha': [0.1, 1, 10],\n",
    "        'models__l1_ratio': [0.2, 0.5, 0.8]\n",
    "    },\n",
    "    {\n",
    "        'models': [RandomForestRegressor(random_state=RANDOM_STATE)],\n",
    "        'models__n_estimators': [100, 200, 300],\n",
    "        'models__max_depth': [None, 5, 10]\n",
    "    },\n",
    "    {\n",
    "        'models': [GradientBoostingRegressor(random_state=RANDOM_STATE)],\n",
    "        'models__n_estimators': [50, 100, 150],\n",
    "        'models__learning_rate': [0.01, 0.1, 0.2]\n",
    "    }\n",
    "]\n",
    "\n"
   ]
  }
 ],
 "metadata": {
  "kernelspec": {
   "display_name": "Python 3 (ipykernel)",
   "language": "python",
   "name": "python3"
  },
  "language_info": {
   "codemirror_mode": {
    "name": "ipython",
    "version": 3
   },
   "file_extension": ".py",
   "mimetype": "text/x-python",
   "name": "python",
   "nbconvert_exporter": "python",
   "pygments_lexer": "ipython3",
   "version": "3.10.14"
  }
 },
 "nbformat": 4,
 "nbformat_minor": 5
}
